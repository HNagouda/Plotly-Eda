{
 "cells": [
  {
   "cell_type": "markdown",
   "metadata": {},
   "source": [
    "# EDA - Countrywise Tourist Revenue\n",
    "\n",
    "Plotly based Exploratory Data Analysis on foregin tourism from 1960 to 2020\n",
    "\n",
    "### The Dataset(s)\n",
    "> **World Bank**\n",
    "  \n",
    "- [International Arrival](https://data.worldbank.org/indicator/ST.INT.ARVL) : tourist arrivals by country \n",
    "- [International Spending](https://data.worldbank.org/indicator/ST.INT.RCPT.CD) : tourist expenditures by country\n",
    "\n",
    "> **Wikipedia**\n",
    " \n",
    "- [Country Codes](https://en.wikipedia.org/wiki/List_of_ISO_3166_country_codes) : Countrywise codes and XX"
   ]
  },
  {
   "cell_type": "markdown",
   "metadata": {},
   "source": [
    "## Imports"
   ]
  },
  {
   "cell_type": "code",
   "execution_count": 24,
   "metadata": {},
   "outputs": [],
   "source": [
    "\n",
    "import os\n",
    "import pandas as pd\n",
    "from itertools import cycle\n",
    "import plotly.express as px\n",
    "\n",
    "# set plotly as default pandas plotting backend\n",
    "pd.options.plotting.backend = \"plotly\"\n",
    "\n",
    "# set plotly color palette\n",
    "palette = cycle(['#2a9d8f', '#e9c46a', '#f4a261', '#e76f51'])\n",
    "\n",
    "# Article: https://12ft.io/proxy?q=https://towardsdatascience.com/visualization-with-plotly-express-comprehensive-guide-eb5ee4b50b57\n",
    "\n",
    "# Code: https://github.com/vaclavdekanovsky/data-analysis-in-examples/blob/master/Vizualizations/Plotly/Comperhansive%20Guide/Plotly%20Express%20-%20Comprehensive%20Guide.ipynb\n",
    "\n",
    "# Data Preprocessing: https://github.com/vaclavdekanovsky/data-analysis-in-examples/blob/master/Vizualizations/Plotly/Preprocess/Preprocessing.ipynb"
   ]
  },
  {
   "cell_type": "markdown",
   "metadata": {},
   "source": [
    "## Preprocessing"
   ]
  },
  {
   "cell_type": "code",
   "execution_count": 25,
   "metadata": {},
   "outputs": [],
   "source": [
    "arrivals = pd.read_csv(os.path.join('data', 'API_ST.INT.ARVL_DS2_en_csv_v2_3731977.csv'), skiprows=4)\n",
    "\n",
    "spending = pd.read_csv(os.path.join('data', 'API_ST.INT.RCPT.CD_DS2_en_csv_v2_3733198.csv'), skiprows=4)\n",
    "\n",
    "country_codes = pd.read_csv(os.path.join('data', 'Country_Codes.csv'))\n"
   ]
  },
  {
   "cell_type": "code",
   "execution_count": 26,
   "metadata": {},
   "outputs": [
    {
     "name": "stdout",
     "output_type": "stream",
     "text": [
      "\n",
      "Arrivals df shape: (266, 66)\n",
      "Spending df shape: (266, 66)\n",
      "Country Codes df shape: (249, 4)\n",
      "\n"
     ]
    }
   ],
   "source": [
    "print(f\"\"\"\n",
    "Arrivals df shape: {arrivals.shape}\n",
    "Spending df shape: {spending.shape}\n",
    "Country Codes df shape: {country_codes.shape}\n",
    "\"\"\")"
   ]
  },
  {
   "cell_type": "code",
   "execution_count": 27,
   "metadata": {},
   "outputs": [
    {
     "data": {
      "text/html": [
       "<div>\n",
       "<style scoped>\n",
       "    .dataframe tbody tr th:only-of-type {\n",
       "        vertical-align: middle;\n",
       "    }\n",
       "\n",
       "    .dataframe tbody tr th {\n",
       "        vertical-align: top;\n",
       "    }\n",
       "\n",
       "    .dataframe thead th {\n",
       "        text-align: right;\n",
       "    }\n",
       "</style>\n",
       "<table border=\"1\" class=\"dataframe\">\n",
       "  <thead>\n",
       "    <tr style=\"text-align: right;\">\n",
       "      <th></th>\n",
       "      <th>Country Name</th>\n",
       "      <th>Country Code</th>\n",
       "      <th>Indicator Name</th>\n",
       "      <th>Indicator Code</th>\n",
       "      <th>1960</th>\n",
       "      <th>1961</th>\n",
       "      <th>1962</th>\n",
       "      <th>1963</th>\n",
       "      <th>1964</th>\n",
       "      <th>1965</th>\n",
       "      <th>...</th>\n",
       "      <th>2012</th>\n",
       "      <th>2013</th>\n",
       "      <th>2014</th>\n",
       "      <th>2015</th>\n",
       "      <th>2016</th>\n",
       "      <th>2017</th>\n",
       "      <th>2018</th>\n",
       "      <th>2019</th>\n",
       "      <th>2020</th>\n",
       "      <th>Unnamed: 65</th>\n",
       "    </tr>\n",
       "  </thead>\n",
       "  <tbody>\n",
       "    <tr>\n",
       "      <th>0</th>\n",
       "      <td>Aruba</td>\n",
       "      <td>ABW</td>\n",
       "      <td>International tourism, number of arrivals</td>\n",
       "      <td>ST.INT.ARVL</td>\n",
       "      <td>NaN</td>\n",
       "      <td>NaN</td>\n",
       "      <td>NaN</td>\n",
       "      <td>NaN</td>\n",
       "      <td>NaN</td>\n",
       "      <td>NaN</td>\n",
       "      <td>...</td>\n",
       "      <td>1.481000e+06</td>\n",
       "      <td>1.667000e+06</td>\n",
       "      <td>1.739000e+06</td>\n",
       "      <td>1.832000e+06</td>\n",
       "      <td>1.758000e+06</td>\n",
       "      <td>1.863000e+06</td>\n",
       "      <td>1.897000e+06</td>\n",
       "      <td>1.951000e+06</td>\n",
       "      <td>NaN</td>\n",
       "      <td>NaN</td>\n",
       "    </tr>\n",
       "    <tr>\n",
       "      <th>1</th>\n",
       "      <td>Africa Eastern and Southern</td>\n",
       "      <td>AFE</td>\n",
       "      <td>International tourism, number of arrivals</td>\n",
       "      <td>ST.INT.ARVL</td>\n",
       "      <td>NaN</td>\n",
       "      <td>NaN</td>\n",
       "      <td>NaN</td>\n",
       "      <td>NaN</td>\n",
       "      <td>NaN</td>\n",
       "      <td>NaN</td>\n",
       "      <td>...</td>\n",
       "      <td>3.274855e+07</td>\n",
       "      <td>3.442663e+07</td>\n",
       "      <td>3.573839e+07</td>\n",
       "      <td>3.531868e+07</td>\n",
       "      <td>3.764589e+07</td>\n",
       "      <td>3.825835e+07</td>\n",
       "      <td>4.118915e+07</td>\n",
       "      <td>3.982670e+07</td>\n",
       "      <td>NaN</td>\n",
       "      <td>NaN</td>\n",
       "    </tr>\n",
       "    <tr>\n",
       "      <th>2</th>\n",
       "      <td>Afghanistan</td>\n",
       "      <td>AFG</td>\n",
       "      <td>International tourism, number of arrivals</td>\n",
       "      <td>ST.INT.ARVL</td>\n",
       "      <td>NaN</td>\n",
       "      <td>NaN</td>\n",
       "      <td>NaN</td>\n",
       "      <td>NaN</td>\n",
       "      <td>NaN</td>\n",
       "      <td>NaN</td>\n",
       "      <td>...</td>\n",
       "      <td>NaN</td>\n",
       "      <td>NaN</td>\n",
       "      <td>NaN</td>\n",
       "      <td>NaN</td>\n",
       "      <td>NaN</td>\n",
       "      <td>NaN</td>\n",
       "      <td>NaN</td>\n",
       "      <td>NaN</td>\n",
       "      <td>NaN</td>\n",
       "      <td>NaN</td>\n",
       "    </tr>\n",
       "    <tr>\n",
       "      <th>3</th>\n",
       "      <td>Africa Western and Central</td>\n",
       "      <td>AFW</td>\n",
       "      <td>International tourism, number of arrivals</td>\n",
       "      <td>ST.INT.ARVL</td>\n",
       "      <td>NaN</td>\n",
       "      <td>NaN</td>\n",
       "      <td>NaN</td>\n",
       "      <td>NaN</td>\n",
       "      <td>NaN</td>\n",
       "      <td>NaN</td>\n",
       "      <td>...</td>\n",
       "      <td>1.022103e+07</td>\n",
       "      <td>1.008582e+07</td>\n",
       "      <td>1.054462e+07</td>\n",
       "      <td>1.331168e+07</td>\n",
       "      <td>1.315078e+07</td>\n",
       "      <td>NaN</td>\n",
       "      <td>NaN</td>\n",
       "      <td>NaN</td>\n",
       "      <td>NaN</td>\n",
       "      <td>NaN</td>\n",
       "    </tr>\n",
       "    <tr>\n",
       "      <th>4</th>\n",
       "      <td>Angola</td>\n",
       "      <td>AGO</td>\n",
       "      <td>International tourism, number of arrivals</td>\n",
       "      <td>ST.INT.ARVL</td>\n",
       "      <td>NaN</td>\n",
       "      <td>NaN</td>\n",
       "      <td>NaN</td>\n",
       "      <td>NaN</td>\n",
       "      <td>NaN</td>\n",
       "      <td>NaN</td>\n",
       "      <td>...</td>\n",
       "      <td>5.280000e+05</td>\n",
       "      <td>6.500000e+05</td>\n",
       "      <td>5.950000e+05</td>\n",
       "      <td>5.920000e+05</td>\n",
       "      <td>3.970000e+05</td>\n",
       "      <td>2.610000e+05</td>\n",
       "      <td>2.180000e+05</td>\n",
       "      <td>2.180000e+05</td>\n",
       "      <td>NaN</td>\n",
       "      <td>NaN</td>\n",
       "    </tr>\n",
       "  </tbody>\n",
       "</table>\n",
       "<p>5 rows × 66 columns</p>\n",
       "</div>"
      ],
      "text/plain": [
       "                  Country Name Country Code  \\\n",
       "0                        Aruba          ABW   \n",
       "1  Africa Eastern and Southern          AFE   \n",
       "2                  Afghanistan          AFG   \n",
       "3   Africa Western and Central          AFW   \n",
       "4                       Angola          AGO   \n",
       "\n",
       "                              Indicator Name Indicator Code  1960  1961  1962  \\\n",
       "0  International tourism, number of arrivals    ST.INT.ARVL   NaN   NaN   NaN   \n",
       "1  International tourism, number of arrivals    ST.INT.ARVL   NaN   NaN   NaN   \n",
       "2  International tourism, number of arrivals    ST.INT.ARVL   NaN   NaN   NaN   \n",
       "3  International tourism, number of arrivals    ST.INT.ARVL   NaN   NaN   NaN   \n",
       "4  International tourism, number of arrivals    ST.INT.ARVL   NaN   NaN   NaN   \n",
       "\n",
       "   1963  1964  1965  ...          2012          2013          2014  \\\n",
       "0   NaN   NaN   NaN  ...  1.481000e+06  1.667000e+06  1.739000e+06   \n",
       "1   NaN   NaN   NaN  ...  3.274855e+07  3.442663e+07  3.573839e+07   \n",
       "2   NaN   NaN   NaN  ...           NaN           NaN           NaN   \n",
       "3   NaN   NaN   NaN  ...  1.022103e+07  1.008582e+07  1.054462e+07   \n",
       "4   NaN   NaN   NaN  ...  5.280000e+05  6.500000e+05  5.950000e+05   \n",
       "\n",
       "           2015          2016          2017          2018          2019  2020  \\\n",
       "0  1.832000e+06  1.758000e+06  1.863000e+06  1.897000e+06  1.951000e+06   NaN   \n",
       "1  3.531868e+07  3.764589e+07  3.825835e+07  4.118915e+07  3.982670e+07   NaN   \n",
       "2           NaN           NaN           NaN           NaN           NaN   NaN   \n",
       "3  1.331168e+07  1.315078e+07           NaN           NaN           NaN   NaN   \n",
       "4  5.920000e+05  3.970000e+05  2.610000e+05  2.180000e+05  2.180000e+05   NaN   \n",
       "\n",
       "   Unnamed: 65  \n",
       "0          NaN  \n",
       "1          NaN  \n",
       "2          NaN  \n",
       "3          NaN  \n",
       "4          NaN  \n",
       "\n",
       "[5 rows x 66 columns]"
      ]
     },
     "execution_count": 27,
     "metadata": {},
     "output_type": "execute_result"
    }
   ],
   "source": [
    "arrivals.head()"
   ]
  },
  {
   "cell_type": "code",
   "execution_count": 28,
   "metadata": {},
   "outputs": [],
   "source": [
    "# arrivals = arrivals.set_index('Country Name')\n",
    "# spending = spending.set_index('Country Name')\n"
   ]
  },
  {
   "cell_type": "code",
   "execution_count": 29,
   "metadata": {},
   "outputs": [
    {
     "data": {
      "image/svg+xml": "<svg class=\"main-svg\" xmlns=\"http://www.w3.org/2000/svg\" xmlns:xlink=\"http://www.w3.org/1999/xlink\" width=\"1000\" height=\"600\" style=\"\" viewBox=\"0 0 1000 600\"><rect x=\"0\" y=\"0\" width=\"1000\" height=\"600\" style=\"fill: rgb(17, 17, 17); fill-opacity: 1;\"/><defs id=\"defs-01e305\"><g class=\"clips\"><clipPath id=\"clip01e305xyplot\" class=\"plotclip\"><rect width=\"840\" height=\"374\"/></clipPath><clipPath class=\"axesclip\" id=\"clip01e305x\"><rect x=\"80\" y=\"0\" width=\"840\" height=\"600\"/></clipPath><clipPath class=\"axesclip\" id=\"clip01e305y\"><rect x=\"0\" y=\"100\" width=\"1000\" height=\"374\"/></clipPath><clipPath class=\"axesclip\" id=\"clip01e305xy\"><rect x=\"80\" y=\"100\" width=\"840\" height=\"374\"/></clipPath></g><g class=\"gradients\"/><g class=\"patterns\"/></defs><g class=\"bglayer\"/><g class=\"layer-below\"><g class=\"imagelayer\"/><g class=\"shapelayer\"/></g><g class=\"cartesianlayer\"><g class=\"subplot xy\"><g class=\"layer-subplot\"><g class=\"shapelayer\"/><g class=\"imagelayer\"/></g><g class=\"gridlayer\"><g class=\"x\"><path class=\"xgrid crisp\" transform=\"translate(105.85,0)\" d=\"M0,100v374\" style=\"stroke: rgb(40, 52, 66); stroke-opacity: 1; stroke-width: 1px;\"/><path class=\"xgrid crisp\" transform=\"translate(131.69,0)\" d=\"M0,100v374\" style=\"stroke: rgb(40, 52, 66); stroke-opacity: 1; stroke-width: 1px;\"/><path class=\"xgrid crisp\" transform=\"translate(157.54000000000002,0)\" d=\"M0,100v374\" style=\"stroke: rgb(40, 52, 66); stroke-opacity: 1; stroke-width: 1px;\"/><path class=\"xgrid crisp\" transform=\"translate(183.38,0)\" d=\"M0,100v374\" style=\"stroke: rgb(40, 52, 66); stroke-opacity: 1; stroke-width: 1px;\"/><path class=\"xgrid crisp\" transform=\"translate(209.23,0)\" d=\"M0,100v374\" style=\"stroke: rgb(40, 52, 66); stroke-opacity: 1; stroke-width: 1px;\"/><path class=\"xgrid crisp\" transform=\"translate(235.08,0)\" d=\"M0,100v374\" style=\"stroke: rgb(40, 52, 66); stroke-opacity: 1; stroke-width: 1px;\"/><path class=\"xgrid crisp\" transform=\"translate(260.91999999999996,0)\" d=\"M0,100v374\" style=\"stroke: rgb(40, 52, 66); stroke-opacity: 1; stroke-width: 1px;\"/><path class=\"xgrid crisp\" transform=\"translate(286.77,0)\" d=\"M0,100v374\" style=\"stroke: rgb(40, 52, 66); stroke-opacity: 1; stroke-width: 1px;\"/><path class=\"xgrid crisp\" transform=\"translate(312.62,0)\" d=\"M0,100v374\" style=\"stroke: rgb(40, 52, 66); stroke-opacity: 1; stroke-width: 1px;\"/><path class=\"xgrid crisp\" transform=\"translate(338.46,0)\" d=\"M0,100v374\" style=\"stroke: rgb(40, 52, 66); stroke-opacity: 1; stroke-width: 1px;\"/><path class=\"xgrid crisp\" transform=\"translate(364.31,0)\" d=\"M0,100v374\" style=\"stroke: rgb(40, 52, 66); stroke-opacity: 1; stroke-width: 1px;\"/><path class=\"xgrid crisp\" transform=\"translate(390.15,0)\" d=\"M0,100v374\" style=\"stroke: rgb(40, 52, 66); stroke-opacity: 1; stroke-width: 1px;\"/><path class=\"xgrid crisp\" transform=\"translate(416,0)\" d=\"M0,100v374\" style=\"stroke: rgb(40, 52, 66); stroke-opacity: 1; stroke-width: 1px;\"/><path class=\"xgrid crisp\" transform=\"translate(441.85,0)\" d=\"M0,100v374\" style=\"stroke: rgb(40, 52, 66); stroke-opacity: 1; stroke-width: 1px;\"/><path class=\"xgrid crisp\" transform=\"translate(467.69,0)\" d=\"M0,100v374\" style=\"stroke: rgb(40, 52, 66); stroke-opacity: 1; stroke-width: 1px;\"/><path class=\"xgrid crisp\" transform=\"translate(493.54,0)\" d=\"M0,100v374\" style=\"stroke: rgb(40, 52, 66); stroke-opacity: 1; stroke-width: 1px;\"/><path class=\"xgrid crisp\" transform=\"translate(519.38,0)\" d=\"M0,100v374\" style=\"stroke: rgb(40, 52, 66); stroke-opacity: 1; stroke-width: 1px;\"/><path class=\"xgrid crisp\" transform=\"translate(545.23,0)\" d=\"M0,100v374\" style=\"stroke: rgb(40, 52, 66); stroke-opacity: 1; stroke-width: 1px;\"/><path class=\"xgrid crisp\" transform=\"translate(571.0799999999999,0)\" d=\"M0,100v374\" style=\"stroke: rgb(40, 52, 66); stroke-opacity: 1; stroke-width: 1px;\"/><path class=\"xgrid crisp\" transform=\"translate(596.92,0)\" d=\"M0,100v374\" style=\"stroke: rgb(40, 52, 66); stroke-opacity: 1; stroke-width: 1px;\"/><path class=\"xgrid crisp\" transform=\"translate(622.77,0)\" d=\"M0,100v374\" style=\"stroke: rgb(40, 52, 66); stroke-opacity: 1; stroke-width: 1px;\"/><path class=\"xgrid crisp\" transform=\"translate(648.62,0)\" d=\"M0,100v374\" style=\"stroke: rgb(40, 52, 66); stroke-opacity: 1; stroke-width: 1px;\"/><path class=\"xgrid crisp\" transform=\"translate(674.46,0)\" d=\"M0,100v374\" style=\"stroke: rgb(40, 52, 66); stroke-opacity: 1; stroke-width: 1px;\"/><path class=\"xgrid crisp\" transform=\"translate(700.31,0)\" d=\"M0,100v374\" style=\"stroke: rgb(40, 52, 66); stroke-opacity: 1; stroke-width: 1px;\"/><path class=\"xgrid crisp\" transform=\"translate(726.15,0)\" d=\"M0,100v374\" style=\"stroke: rgb(40, 52, 66); stroke-opacity: 1; stroke-width: 1px;\"/><path class=\"xgrid crisp\" transform=\"translate(752,0)\" d=\"M0,100v374\" style=\"stroke: rgb(40, 52, 66); stroke-opacity: 1; stroke-width: 1px;\"/><path class=\"xgrid crisp\" transform=\"translate(777.85,0)\" d=\"M0,100v374\" style=\"stroke: rgb(40, 52, 66); stroke-opacity: 1; stroke-width: 1px;\"/><path class=\"xgrid crisp\" transform=\"translate(803.69,0)\" d=\"M0,100v374\" style=\"stroke: rgb(40, 52, 66); stroke-opacity: 1; stroke-width: 1px;\"/><path class=\"xgrid crisp\" transform=\"translate(829.54,0)\" d=\"M0,100v374\" style=\"stroke: rgb(40, 52, 66); stroke-opacity: 1; stroke-width: 1px;\"/><path class=\"xgrid crisp\" transform=\"translate(855.38,0)\" d=\"M0,100v374\" style=\"stroke: rgb(40, 52, 66); stroke-opacity: 1; stroke-width: 1px;\"/><path class=\"xgrid crisp\" transform=\"translate(881.23,0)\" d=\"M0,100v374\" style=\"stroke: rgb(40, 52, 66); stroke-opacity: 1; stroke-width: 1px;\"/><path class=\"xgrid crisp\" transform=\"translate(907.08,0)\" d=\"M0,100v374\" style=\"stroke: rgb(40, 52, 66); stroke-opacity: 1; stroke-width: 1px;\"/></g><g class=\"y\"><path class=\"ygrid crisp\" transform=\"translate(0,392.03)\" d=\"M80,0h840\" style=\"stroke: rgb(40, 52, 66); stroke-opacity: 1; stroke-width: 1px;\"/><path class=\"ygrid crisp\" transform=\"translate(0,328.76)\" d=\"M80,0h840\" style=\"stroke: rgb(40, 52, 66); stroke-opacity: 1; stroke-width: 1px;\"/><path class=\"ygrid crisp\" transform=\"translate(0,265.49)\" d=\"M80,0h840\" style=\"stroke: rgb(40, 52, 66); stroke-opacity: 1; stroke-width: 1px;\"/><path class=\"ygrid crisp\" transform=\"translate(0,202.22)\" d=\"M80,0h840\" style=\"stroke: rgb(40, 52, 66); stroke-opacity: 1; stroke-width: 1px;\"/><path class=\"ygrid crisp\" transform=\"translate(0,138.95)\" d=\"M80,0h840\" style=\"stroke: rgb(40, 52, 66); stroke-opacity: 1; stroke-width: 1px;\"/></g></g><g class=\"zerolinelayer\"><path class=\"yzl zl crisp\" transform=\"translate(0,455.3)\" d=\"M80,0h840\" style=\"stroke: rgb(40, 52, 66); stroke-opacity: 1; stroke-width: 2px;\"/></g><path class=\"xlines-below\"/><path class=\"ylines-below\"/><g class=\"overlines-below\"/><g class=\"xaxislayer-below\"/><g class=\"yaxislayer-below\"/><g class=\"overaxes-below\"/><g class=\"plot\" transform=\"translate(80,100)\" clip-path=\"url(#clip01e305xyplot)\"><g class=\"scatterlayer mlayer\"><g class=\"trace scatter trace2f410b\" style=\"stroke-miterlimit: 2; opacity: 1;\"><g class=\"fills\"/><g class=\"errorbars\"/><g class=\"lines\"><path class=\"js-line\" d=\"M0,355.3L38.77,355.3L51.69,18.7L491.08,18.7L504,280.64L516.92,289.5L529.85,290.76L555.69,290.76L568.62,293.29L581.54,295.83L594.46,292.03L607.38,297.09L620.31,297.09L633.23,303.42L646.15,308.48L672,318.6L684.92,314.81L697.85,318.6L710.77,319.87L723.69,318.6L736.62,318.6L749.54,317.34L762.46,322.4L775.38,322.4L788.31,314.81L801.23,309.75L814.15,300.89L827.08,185.73L840,18.7\" style=\"vector-effect: non-scaling-stroke; fill: none; stroke: rgb(42, 157, 143); stroke-opacity: 1; stroke-width: 2px; opacity: 1;\"/></g><g class=\"points\"/><g class=\"text\"/></g></g></g><g class=\"overplot\"/><path class=\"xlines-above crisp\" d=\"M0,0\" style=\"fill: none;\"/><path class=\"ylines-above crisp\" d=\"M0,0\" style=\"fill: none;\"/><g class=\"overlines-above\"/><g class=\"xaxislayer-above\"><g class=\"xtick\"><text text-anchor=\"start\" x=\"0\" y=\"487\" transform=\"translate(80,0) rotate(90,0,481)\" style=\"font-family: 'Open Sans', verdana, arial, sans-serif; font-size: 12px; fill: rgb(242, 245, 250); fill-opacity: 1; white-space: pre; opacity: 1;\">Country Name</text></g><g class=\"xtick\"><text text-anchor=\"start\" x=\"0\" y=\"487\" transform=\"translate(105.85,0) rotate(90,0,481)\" style=\"font-family: 'Open Sans', verdana, arial, sans-serif; font-size: 12px; fill: rgb(242, 245, 250); fill-opacity: 1; white-space: pre; opacity: 1;\">Indicator Name</text></g><g class=\"xtick\"><text text-anchor=\"start\" x=\"0\" y=\"487\" transform=\"translate(131.69,0) rotate(90,0,481)\" style=\"font-family: 'Open Sans', verdana, arial, sans-serif; font-size: 12px; fill: rgb(242, 245, 250); fill-opacity: 1; white-space: pre; opacity: 1;\">1960</text></g><g class=\"xtick\"><text text-anchor=\"start\" x=\"0\" y=\"487\" transform=\"translate(157.54000000000002,0) rotate(90,0,481)\" style=\"font-family: 'Open Sans', verdana, arial, sans-serif; font-size: 12px; fill: rgb(242, 245, 250); fill-opacity: 1; white-space: pre; opacity: 1;\">1962</text></g><g class=\"xtick\"><text text-anchor=\"start\" x=\"0\" y=\"487\" transform=\"translate(183.38,0) rotate(90,0,481)\" style=\"font-family: 'Open Sans', verdana, arial, sans-serif; font-size: 12px; fill: rgb(242, 245, 250); fill-opacity: 1; white-space: pre; opacity: 1;\">1964</text></g><g class=\"xtick\"><text text-anchor=\"start\" x=\"0\" y=\"487\" transform=\"translate(209.23,0) rotate(90,0,481)\" style=\"font-family: 'Open Sans', verdana, arial, sans-serif; font-size: 12px; fill: rgb(242, 245, 250); fill-opacity: 1; white-space: pre; opacity: 1;\">1966</text></g><g class=\"xtick\"><text text-anchor=\"start\" x=\"0\" y=\"487\" transform=\"translate(235.08,0) rotate(90,0,481)\" style=\"font-family: 'Open Sans', verdana, arial, sans-serif; font-size: 12px; fill: rgb(242, 245, 250); fill-opacity: 1; white-space: pre; opacity: 1;\">1968</text></g><g class=\"xtick\"><text text-anchor=\"start\" x=\"0\" y=\"487\" transform=\"translate(260.91999999999996,0) rotate(90,0,481)\" style=\"font-family: 'Open Sans', verdana, arial, sans-serif; font-size: 12px; fill: rgb(242, 245, 250); fill-opacity: 1; white-space: pre; opacity: 1;\">1970</text></g><g class=\"xtick\"><text text-anchor=\"start\" x=\"0\" y=\"487\" transform=\"translate(286.77,0) rotate(90,0,481)\" style=\"font-family: 'Open Sans', verdana, arial, sans-serif; font-size: 12px; fill: rgb(242, 245, 250); fill-opacity: 1; white-space: pre; opacity: 1;\">1972</text></g><g class=\"xtick\"><text text-anchor=\"start\" x=\"0\" y=\"487\" transform=\"translate(312.62,0) rotate(90,0,481)\" style=\"font-family: 'Open Sans', verdana, arial, sans-serif; font-size: 12px; fill: rgb(242, 245, 250); fill-opacity: 1; white-space: pre; opacity: 1;\">1974</text></g><g class=\"xtick\"><text text-anchor=\"start\" x=\"0\" y=\"487\" transform=\"translate(338.46,0) rotate(90,0,481)\" style=\"font-family: 'Open Sans', verdana, arial, sans-serif; font-size: 12px; fill: rgb(242, 245, 250); fill-opacity: 1; white-space: pre; opacity: 1;\">1976</text></g><g class=\"xtick\"><text text-anchor=\"start\" x=\"0\" y=\"487\" transform=\"translate(364.31,0) rotate(90,0,481)\" style=\"font-family: 'Open Sans', verdana, arial, sans-serif; font-size: 12px; fill: rgb(242, 245, 250); fill-opacity: 1; white-space: pre; opacity: 1;\">1978</text></g><g class=\"xtick\"><text text-anchor=\"start\" x=\"0\" y=\"487\" transform=\"translate(390.15,0) rotate(90,0,481)\" style=\"font-family: 'Open Sans', verdana, arial, sans-serif; font-size: 12px; fill: rgb(242, 245, 250); fill-opacity: 1; white-space: pre; opacity: 1;\">1980</text></g><g class=\"xtick\"><text text-anchor=\"start\" x=\"0\" y=\"487\" transform=\"translate(416,0) rotate(90,0,481)\" style=\"font-family: 'Open Sans', verdana, arial, sans-serif; font-size: 12px; fill: rgb(242, 245, 250); fill-opacity: 1; white-space: pre; opacity: 1;\">1982</text></g><g class=\"xtick\"><text text-anchor=\"start\" x=\"0\" y=\"487\" transform=\"translate(441.85,0) rotate(90,0,481)\" style=\"font-family: 'Open Sans', verdana, arial, sans-serif; font-size: 12px; fill: rgb(242, 245, 250); fill-opacity: 1; white-space: pre; opacity: 1;\">1984</text></g><g class=\"xtick\"><text text-anchor=\"start\" x=\"0\" y=\"487\" transform=\"translate(467.69,0) rotate(90,0,481)\" style=\"font-family: 'Open Sans', verdana, arial, sans-serif; font-size: 12px; fill: rgb(242, 245, 250); fill-opacity: 1; white-space: pre; opacity: 1;\">1986</text></g><g class=\"xtick\"><text text-anchor=\"start\" x=\"0\" y=\"487\" transform=\"translate(493.54,0) rotate(90,0,481)\" style=\"font-family: 'Open Sans', verdana, arial, sans-serif; font-size: 12px; fill: rgb(242, 245, 250); fill-opacity: 1; white-space: pre; opacity: 1;\">1988</text></g><g class=\"xtick\"><text text-anchor=\"start\" x=\"0\" y=\"487\" transform=\"translate(519.38,0) rotate(90,0,481)\" style=\"font-family: 'Open Sans', verdana, arial, sans-serif; font-size: 12px; fill: rgb(242, 245, 250); fill-opacity: 1; white-space: pre; opacity: 1;\">1990</text></g><g class=\"xtick\"><text text-anchor=\"start\" x=\"0\" y=\"487\" transform=\"translate(545.23,0) rotate(90,0,481)\" style=\"font-family: 'Open Sans', verdana, arial, sans-serif; font-size: 12px; fill: rgb(242, 245, 250); fill-opacity: 1; white-space: pre; opacity: 1;\">1992</text></g><g class=\"xtick\"><text text-anchor=\"start\" x=\"0\" y=\"487\" transform=\"translate(571.0799999999999,0) rotate(90,0,481)\" style=\"font-family: 'Open Sans', verdana, arial, sans-serif; font-size: 12px; fill: rgb(242, 245, 250); fill-opacity: 1; white-space: pre; opacity: 1;\">1994</text></g><g class=\"xtick\"><text text-anchor=\"start\" x=\"0\" y=\"487\" transform=\"translate(596.92,0) rotate(90,0,481)\" style=\"font-family: 'Open Sans', verdana, arial, sans-serif; font-size: 12px; fill: rgb(242, 245, 250); fill-opacity: 1; white-space: pre; opacity: 1;\">1996</text></g><g class=\"xtick\"><text text-anchor=\"start\" x=\"0\" y=\"487\" transform=\"translate(622.77,0) rotate(90,0,481)\" style=\"font-family: 'Open Sans', verdana, arial, sans-serif; font-size: 12px; fill: rgb(242, 245, 250); fill-opacity: 1; white-space: pre; opacity: 1;\">1998</text></g><g class=\"xtick\"><text text-anchor=\"start\" x=\"0\" y=\"487\" transform=\"translate(648.62,0) rotate(90,0,481)\" style=\"font-family: 'Open Sans', verdana, arial, sans-serif; font-size: 12px; fill: rgb(242, 245, 250); fill-opacity: 1; white-space: pre; opacity: 1;\">2000</text></g><g class=\"xtick\"><text text-anchor=\"start\" x=\"0\" y=\"487\" transform=\"translate(674.46,0) rotate(90,0,481)\" style=\"font-family: 'Open Sans', verdana, arial, sans-serif; font-size: 12px; fill: rgb(242, 245, 250); fill-opacity: 1; white-space: pre; opacity: 1;\">2002</text></g><g class=\"xtick\"><text text-anchor=\"start\" x=\"0\" y=\"487\" transform=\"translate(700.31,0) rotate(90,0,481)\" style=\"font-family: 'Open Sans', verdana, arial, sans-serif; font-size: 12px; fill: rgb(242, 245, 250); fill-opacity: 1; white-space: pre; opacity: 1;\">2004</text></g><g class=\"xtick\"><text text-anchor=\"start\" x=\"0\" y=\"487\" transform=\"translate(726.15,0) rotate(90,0,481)\" style=\"font-family: 'Open Sans', verdana, arial, sans-serif; font-size: 12px; fill: rgb(242, 245, 250); fill-opacity: 1; white-space: pre; opacity: 1;\">2006</text></g><g class=\"xtick\"><text text-anchor=\"start\" x=\"0\" y=\"487\" transform=\"translate(752,0) rotate(90,0,481)\" style=\"font-family: 'Open Sans', verdana, arial, sans-serif; font-size: 12px; fill: rgb(242, 245, 250); fill-opacity: 1; white-space: pre; opacity: 1;\">2008</text></g><g class=\"xtick\"><text text-anchor=\"start\" x=\"0\" y=\"487\" transform=\"translate(777.85,0) rotate(90,0,481)\" style=\"font-family: 'Open Sans', verdana, arial, sans-serif; font-size: 12px; fill: rgb(242, 245, 250); fill-opacity: 1; white-space: pre; opacity: 1;\">2010</text></g><g class=\"xtick\"><text text-anchor=\"start\" x=\"0\" y=\"487\" transform=\"translate(803.69,0) rotate(90,0,481)\" style=\"font-family: 'Open Sans', verdana, arial, sans-serif; font-size: 12px; fill: rgb(242, 245, 250); fill-opacity: 1; white-space: pre; opacity: 1;\">2012</text></g><g class=\"xtick\"><text text-anchor=\"start\" x=\"0\" y=\"487\" transform=\"translate(829.54,0) rotate(90,0,481)\" style=\"font-family: 'Open Sans', verdana, arial, sans-serif; font-size: 12px; fill: rgb(242, 245, 250); fill-opacity: 1; white-space: pre; opacity: 1;\">2014</text></g><g class=\"xtick\"><text text-anchor=\"start\" x=\"0\" y=\"487\" transform=\"translate(855.38,0) rotate(90,0,481)\" style=\"font-family: 'Open Sans', verdana, arial, sans-serif; font-size: 12px; fill: rgb(242, 245, 250); fill-opacity: 1; white-space: pre; opacity: 1;\">2016</text></g><g class=\"xtick\"><text text-anchor=\"start\" x=\"0\" y=\"487\" transform=\"translate(881.23,0) rotate(90,0,481)\" style=\"font-family: 'Open Sans', verdana, arial, sans-serif; font-size: 12px; fill: rgb(242, 245, 250); fill-opacity: 1; white-space: pre; opacity: 1;\">2018</text></g><g class=\"xtick\"><text text-anchor=\"start\" x=\"0\" y=\"487\" transform=\"translate(907.08,0) rotate(90,0,481)\" style=\"font-family: 'Open Sans', verdana, arial, sans-serif; font-size: 12px; fill: rgb(242, 245, 250); fill-opacity: 1; white-space: pre; opacity: 1;\">2020</text></g></g><g class=\"yaxislayer-above\"><g class=\"ytick\"><text text-anchor=\"end\" x=\"79\" y=\"4.199999999999999\" transform=\"translate(0,455.3)\" style=\"font-family: 'Open Sans', verdana, arial, sans-serif; font-size: 12px; fill: rgb(242, 245, 250); fill-opacity: 1; white-space: pre; opacity: 1;\">0</text></g><g class=\"ytick\"><text text-anchor=\"end\" x=\"79\" y=\"4.199999999999999\" style=\"font-family: 'Open Sans', verdana, arial, sans-serif; font-size: 12px; fill: rgb(242, 245, 250); fill-opacity: 1; white-space: pre; opacity: 1;\" transform=\"translate(0,392.03)\">50</text></g><g class=\"ytick\"><text text-anchor=\"end\" x=\"79\" y=\"4.199999999999999\" style=\"font-family: 'Open Sans', verdana, arial, sans-serif; font-size: 12px; fill: rgb(242, 245, 250); fill-opacity: 1; white-space: pre; opacity: 1;\" transform=\"translate(0,328.76)\">100</text></g><g class=\"ytick\"><text text-anchor=\"end\" x=\"79\" y=\"4.199999999999999\" style=\"font-family: 'Open Sans', verdana, arial, sans-serif; font-size: 12px; fill: rgb(242, 245, 250); fill-opacity: 1; white-space: pre; opacity: 1;\" transform=\"translate(0,265.49)\">150</text></g><g class=\"ytick\"><text text-anchor=\"end\" x=\"79\" y=\"4.199999999999999\" style=\"font-family: 'Open Sans', verdana, arial, sans-serif; font-size: 12px; fill: rgb(242, 245, 250); fill-opacity: 1; white-space: pre; opacity: 1;\" transform=\"translate(0,202.22)\">200</text></g><g class=\"ytick\"><text text-anchor=\"end\" x=\"79\" y=\"4.199999999999999\" style=\"font-family: 'Open Sans', verdana, arial, sans-serif; font-size: 12px; fill: rgb(242, 245, 250); fill-opacity: 1; white-space: pre; opacity: 1;\" transform=\"translate(0,138.95)\">250</text></g></g><g class=\"overaxes-above\"/></g></g><g class=\"polarlayer\"/><g class=\"smithlayer\"/><g class=\"ternarylayer\"/><g class=\"geolayer\"/><g class=\"funnelarealayer\"/><g class=\"pielayer\"/><g class=\"iciclelayer\"/><g class=\"treemaplayer\"/><g class=\"sunburstlayer\"/><g class=\"glimages\"/><defs id=\"topdefs-01e305\"><g class=\"clips\"/></defs><g class=\"layer-above\"><g class=\"imagelayer\"/><g class=\"shapelayer\"/></g><g class=\"infolayer\"><g class=\"g-gtitle\"><text class=\"gtitle\" x=\"50\" y=\"50\" text-anchor=\"start\" dy=\"0em\" style=\"font-family: 'Open Sans', verdana, arial, sans-serif; font-size: 17px; fill: rgb(242, 245, 250); opacity: 1; font-weight: normal; white-space: pre;\">Arrivals - Missing Counts by Column</text></g><g class=\"g-xtitle\"><text class=\"xtitle\" x=\"500\" y=\"587.503125\" text-anchor=\"middle\" style=\"font-family: 'Open Sans', verdana, arial, sans-serif; font-size: 14px; fill: rgb(242, 245, 250); opacity: 1; font-weight: normal; white-space: pre;\">Column</text></g><g class=\"g-ytitle\"><text class=\"ytitle\" transform=\"rotate(-90,34.16875,287)\" x=\"34.16875\" y=\"287\" text-anchor=\"middle\" style=\"font-family: 'Open Sans', verdana, arial, sans-serif; font-size: 14px; fill: rgb(242, 245, 250); opacity: 1; font-weight: normal; white-space: pre;\"># Missing Values</text></g></g></svg>"
     },
     "metadata": {},
     "output_type": "display_data"
    }
   ],
   "source": [
    "# analyze missing values\n",
    "\n",
    "fig = px.line(\n",
    "    title = 'Arrivals - Missing Counts by Column',\n",
    "    y = arrivals.isna().sum().values,\n",
    "    x = arrivals.isna().sum().keys(),\n",
    "    labels = {\n",
    "        'x': 'Column',\n",
    "        'y': '# Missing Values',\n",
    "    },\n",
    "    height = 600, width = 1000,\n",
    "    template = 'plotly_dark',\n",
    "    color_discrete_sequence = [f'{next(palette)}']\n",
    ")\n",
    "\n",
    "fig.show('svg')"
   ]
  },
  {
   "cell_type": "markdown",
   "metadata": {},
   "source": [
    "All data forom 1960 to 1994 is missing - we will drop these columns"
   ]
  },
  {
   "cell_type": "code",
   "execution_count": 30,
   "metadata": {},
   "outputs": [
    {
     "data": {
      "image/svg+xml": "<svg class=\"main-svg\" xmlns=\"http://www.w3.org/2000/svg\" xmlns:xlink=\"http://www.w3.org/1999/xlink\" width=\"1000\" height=\"600\" style=\"\" viewBox=\"0 0 1000 600\"><rect x=\"0\" y=\"0\" width=\"1000\" height=\"600\" style=\"fill: rgb(17, 17, 17); fill-opacity: 1;\"/><defs id=\"defs-a1a9d6\"><g class=\"clips\"><clipPath id=\"clipa1a9d6xyplot\" class=\"plotclip\"><rect width=\"840\" height=\"374\"/></clipPath><clipPath class=\"axesclip\" id=\"clipa1a9d6x\"><rect x=\"80\" y=\"0\" width=\"840\" height=\"600\"/></clipPath><clipPath class=\"axesclip\" id=\"clipa1a9d6y\"><rect x=\"0\" y=\"100\" width=\"1000\" height=\"374\"/></clipPath><clipPath class=\"axesclip\" id=\"clipa1a9d6xy\"><rect x=\"80\" y=\"100\" width=\"840\" height=\"374\"/></clipPath></g><g class=\"gradients\"/><g class=\"patterns\"/></defs><g class=\"bglayer\"/><g class=\"layer-below\"><g class=\"imagelayer\"/><g class=\"shapelayer\"/></g><g class=\"cartesianlayer\"><g class=\"subplot xy\"><g class=\"layer-subplot\"><g class=\"shapelayer\"/><g class=\"imagelayer\"/></g><g class=\"gridlayer\"><g class=\"x\"><path class=\"xgrid crisp\" transform=\"translate(105.85,0)\" d=\"M0,100v374\" style=\"stroke: rgb(40, 52, 66); stroke-opacity: 1; stroke-width: 1px;\"/><path class=\"xgrid crisp\" transform=\"translate(131.69,0)\" d=\"M0,100v374\" style=\"stroke: rgb(40, 52, 66); stroke-opacity: 1; stroke-width: 1px;\"/><path class=\"xgrid crisp\" transform=\"translate(157.54000000000002,0)\" d=\"M0,100v374\" style=\"stroke: rgb(40, 52, 66); stroke-opacity: 1; stroke-width: 1px;\"/><path class=\"xgrid crisp\" transform=\"translate(183.38,0)\" d=\"M0,100v374\" style=\"stroke: rgb(40, 52, 66); stroke-opacity: 1; stroke-width: 1px;\"/><path class=\"xgrid crisp\" transform=\"translate(209.23,0)\" d=\"M0,100v374\" style=\"stroke: rgb(40, 52, 66); stroke-opacity: 1; stroke-width: 1px;\"/><path class=\"xgrid crisp\" transform=\"translate(235.08,0)\" d=\"M0,100v374\" style=\"stroke: rgb(40, 52, 66); stroke-opacity: 1; stroke-width: 1px;\"/><path class=\"xgrid crisp\" transform=\"translate(260.91999999999996,0)\" d=\"M0,100v374\" style=\"stroke: rgb(40, 52, 66); stroke-opacity: 1; stroke-width: 1px;\"/><path class=\"xgrid crisp\" transform=\"translate(286.77,0)\" d=\"M0,100v374\" style=\"stroke: rgb(40, 52, 66); stroke-opacity: 1; stroke-width: 1px;\"/><path class=\"xgrid crisp\" transform=\"translate(312.62,0)\" d=\"M0,100v374\" style=\"stroke: rgb(40, 52, 66); stroke-opacity: 1; stroke-width: 1px;\"/><path class=\"xgrid crisp\" transform=\"translate(338.46,0)\" d=\"M0,100v374\" style=\"stroke: rgb(40, 52, 66); stroke-opacity: 1; stroke-width: 1px;\"/><path class=\"xgrid crisp\" transform=\"translate(364.31,0)\" d=\"M0,100v374\" style=\"stroke: rgb(40, 52, 66); stroke-opacity: 1; stroke-width: 1px;\"/><path class=\"xgrid crisp\" transform=\"translate(390.15,0)\" d=\"M0,100v374\" style=\"stroke: rgb(40, 52, 66); stroke-opacity: 1; stroke-width: 1px;\"/><path class=\"xgrid crisp\" transform=\"translate(416,0)\" d=\"M0,100v374\" style=\"stroke: rgb(40, 52, 66); stroke-opacity: 1; stroke-width: 1px;\"/><path class=\"xgrid crisp\" transform=\"translate(441.85,0)\" d=\"M0,100v374\" style=\"stroke: rgb(40, 52, 66); stroke-opacity: 1; stroke-width: 1px;\"/><path class=\"xgrid crisp\" transform=\"translate(467.69,0)\" d=\"M0,100v374\" style=\"stroke: rgb(40, 52, 66); stroke-opacity: 1; stroke-width: 1px;\"/><path class=\"xgrid crisp\" transform=\"translate(493.54,0)\" d=\"M0,100v374\" style=\"stroke: rgb(40, 52, 66); stroke-opacity: 1; stroke-width: 1px;\"/><path class=\"xgrid crisp\" transform=\"translate(519.38,0)\" d=\"M0,100v374\" style=\"stroke: rgb(40, 52, 66); stroke-opacity: 1; stroke-width: 1px;\"/><path class=\"xgrid crisp\" transform=\"translate(545.23,0)\" d=\"M0,100v374\" style=\"stroke: rgb(40, 52, 66); stroke-opacity: 1; stroke-width: 1px;\"/><path class=\"xgrid crisp\" transform=\"translate(571.0799999999999,0)\" d=\"M0,100v374\" style=\"stroke: rgb(40, 52, 66); stroke-opacity: 1; stroke-width: 1px;\"/><path class=\"xgrid crisp\" transform=\"translate(596.92,0)\" d=\"M0,100v374\" style=\"stroke: rgb(40, 52, 66); stroke-opacity: 1; stroke-width: 1px;\"/><path class=\"xgrid crisp\" transform=\"translate(622.77,0)\" d=\"M0,100v374\" style=\"stroke: rgb(40, 52, 66); stroke-opacity: 1; stroke-width: 1px;\"/><path class=\"xgrid crisp\" transform=\"translate(648.62,0)\" d=\"M0,100v374\" style=\"stroke: rgb(40, 52, 66); stroke-opacity: 1; stroke-width: 1px;\"/><path class=\"xgrid crisp\" transform=\"translate(674.46,0)\" d=\"M0,100v374\" style=\"stroke: rgb(40, 52, 66); stroke-opacity: 1; stroke-width: 1px;\"/><path class=\"xgrid crisp\" transform=\"translate(700.31,0)\" d=\"M0,100v374\" style=\"stroke: rgb(40, 52, 66); stroke-opacity: 1; stroke-width: 1px;\"/><path class=\"xgrid crisp\" transform=\"translate(726.15,0)\" d=\"M0,100v374\" style=\"stroke: rgb(40, 52, 66); stroke-opacity: 1; stroke-width: 1px;\"/><path class=\"xgrid crisp\" transform=\"translate(752,0)\" d=\"M0,100v374\" style=\"stroke: rgb(40, 52, 66); stroke-opacity: 1; stroke-width: 1px;\"/><path class=\"xgrid crisp\" transform=\"translate(777.85,0)\" d=\"M0,100v374\" style=\"stroke: rgb(40, 52, 66); stroke-opacity: 1; stroke-width: 1px;\"/><path class=\"xgrid crisp\" transform=\"translate(803.69,0)\" d=\"M0,100v374\" style=\"stroke: rgb(40, 52, 66); stroke-opacity: 1; stroke-width: 1px;\"/><path class=\"xgrid crisp\" transform=\"translate(829.54,0)\" d=\"M0,100v374\" style=\"stroke: rgb(40, 52, 66); stroke-opacity: 1; stroke-width: 1px;\"/><path class=\"xgrid crisp\" transform=\"translate(855.38,0)\" d=\"M0,100v374\" style=\"stroke: rgb(40, 52, 66); stroke-opacity: 1; stroke-width: 1px;\"/><path class=\"xgrid crisp\" transform=\"translate(881.23,0)\" d=\"M0,100v374\" style=\"stroke: rgb(40, 52, 66); stroke-opacity: 1; stroke-width: 1px;\"/><path class=\"xgrid crisp\" transform=\"translate(907.08,0)\" d=\"M0,100v374\" style=\"stroke: rgb(40, 52, 66); stroke-opacity: 1; stroke-width: 1px;\"/></g><g class=\"y\"><path class=\"ygrid crisp\" transform=\"translate(0,392.03)\" d=\"M80,0h840\" style=\"stroke: rgb(40, 52, 66); stroke-opacity: 1; stroke-width: 1px;\"/><path class=\"ygrid crisp\" transform=\"translate(0,328.76)\" d=\"M80,0h840\" style=\"stroke: rgb(40, 52, 66); stroke-opacity: 1; stroke-width: 1px;\"/><path class=\"ygrid crisp\" transform=\"translate(0,265.49)\" d=\"M80,0h840\" style=\"stroke: rgb(40, 52, 66); stroke-opacity: 1; stroke-width: 1px;\"/><path class=\"ygrid crisp\" transform=\"translate(0,202.22)\" d=\"M80,0h840\" style=\"stroke: rgb(40, 52, 66); stroke-opacity: 1; stroke-width: 1px;\"/><path class=\"ygrid crisp\" transform=\"translate(0,138.95)\" d=\"M80,0h840\" style=\"stroke: rgb(40, 52, 66); stroke-opacity: 1; stroke-width: 1px;\"/></g></g><g class=\"zerolinelayer\"><path class=\"yzl zl crisp\" transform=\"translate(0,455.3)\" d=\"M80,0h840\" style=\"stroke: rgb(40, 52, 66); stroke-opacity: 1; stroke-width: 2px;\"/></g><path class=\"xlines-below\"/><path class=\"ylines-below\"/><g class=\"overlines-below\"/><g class=\"xaxislayer-below\"/><g class=\"yaxislayer-below\"/><g class=\"overaxes-below\"/><g class=\"plot\" transform=\"translate(80,100)\" clip-path=\"url(#clipa1a9d6xyplot)\"><g class=\"scatterlayer mlayer\"><g class=\"trace scatter trace826af2\" style=\"stroke-miterlimit: 2; opacity: 1;\"><g class=\"fills\"/><g class=\"errorbars\"/><g class=\"lines\"><path class=\"js-line\" d=\"M0,355.3L38.77,355.3L51.69,18.7L491.08,18.7L504,222.43L516.92,232.55L529.85,236.35L542.77,238.88L555.69,247.74L568.62,247.74L581.54,254.07L594.46,259.13L607.38,269.25L620.31,270.52L633.23,275.58L646.15,269.25L659.08,278.11L672,278.11L684.92,274.31L697.85,274.31L710.77,276.84L723.69,276.84L736.62,275.58L749.54,279.38L762.46,281.91L775.38,283.17L788.31,274.31L801.23,270.52L814.15,240.15L827.08,181.94L840,18.7\" style=\"vector-effect: non-scaling-stroke; fill: none; stroke: rgb(233, 196, 106); stroke-opacity: 1; stroke-width: 2px; opacity: 1;\"/></g><g class=\"points\"/><g class=\"text\"/></g></g></g><g class=\"overplot\"/><path class=\"xlines-above crisp\" d=\"M0,0\" style=\"fill: none;\"/><path class=\"ylines-above crisp\" d=\"M0,0\" style=\"fill: none;\"/><g class=\"overlines-above\"/><g class=\"xaxislayer-above\"><g class=\"xtick\"><text text-anchor=\"start\" x=\"0\" y=\"487\" transform=\"translate(80,0) rotate(90,0,481)\" style=\"font-family: 'Open Sans', verdana, arial, sans-serif; font-size: 12px; fill: rgb(242, 245, 250); fill-opacity: 1; white-space: pre; opacity: 1;\">Country Name</text></g><g class=\"xtick\"><text text-anchor=\"start\" x=\"0\" y=\"487\" transform=\"translate(105.85,0) rotate(90,0,481)\" style=\"font-family: 'Open Sans', verdana, arial, sans-serif; font-size: 12px; fill: rgb(242, 245, 250); fill-opacity: 1; white-space: pre; opacity: 1;\">Indicator Name</text></g><g class=\"xtick\"><text text-anchor=\"start\" x=\"0\" y=\"487\" transform=\"translate(131.69,0) rotate(90,0,481)\" style=\"font-family: 'Open Sans', verdana, arial, sans-serif; font-size: 12px; fill: rgb(242, 245, 250); fill-opacity: 1; white-space: pre; opacity: 1;\">1960</text></g><g class=\"xtick\"><text text-anchor=\"start\" x=\"0\" y=\"487\" transform=\"translate(157.54000000000002,0) rotate(90,0,481)\" style=\"font-family: 'Open Sans', verdana, arial, sans-serif; font-size: 12px; fill: rgb(242, 245, 250); fill-opacity: 1; white-space: pre; opacity: 1;\">1962</text></g><g class=\"xtick\"><text text-anchor=\"start\" x=\"0\" y=\"487\" transform=\"translate(183.38,0) rotate(90,0,481)\" style=\"font-family: 'Open Sans', verdana, arial, sans-serif; font-size: 12px; fill: rgb(242, 245, 250); fill-opacity: 1; white-space: pre; opacity: 1;\">1964</text></g><g class=\"xtick\"><text text-anchor=\"start\" x=\"0\" y=\"487\" transform=\"translate(209.23,0) rotate(90,0,481)\" style=\"font-family: 'Open Sans', verdana, arial, sans-serif; font-size: 12px; fill: rgb(242, 245, 250); fill-opacity: 1; white-space: pre; opacity: 1;\">1966</text></g><g class=\"xtick\"><text text-anchor=\"start\" x=\"0\" y=\"487\" transform=\"translate(235.08,0) rotate(90,0,481)\" style=\"font-family: 'Open Sans', verdana, arial, sans-serif; font-size: 12px; fill: rgb(242, 245, 250); fill-opacity: 1; white-space: pre; opacity: 1;\">1968</text></g><g class=\"xtick\"><text text-anchor=\"start\" x=\"0\" y=\"487\" transform=\"translate(260.91999999999996,0) rotate(90,0,481)\" style=\"font-family: 'Open Sans', verdana, arial, sans-serif; font-size: 12px; fill: rgb(242, 245, 250); fill-opacity: 1; white-space: pre; opacity: 1;\">1970</text></g><g class=\"xtick\"><text text-anchor=\"start\" x=\"0\" y=\"487\" transform=\"translate(286.77,0) rotate(90,0,481)\" style=\"font-family: 'Open Sans', verdana, arial, sans-serif; font-size: 12px; fill: rgb(242, 245, 250); fill-opacity: 1; white-space: pre; opacity: 1;\">1972</text></g><g class=\"xtick\"><text text-anchor=\"start\" x=\"0\" y=\"487\" transform=\"translate(312.62,0) rotate(90,0,481)\" style=\"font-family: 'Open Sans', verdana, arial, sans-serif; font-size: 12px; fill: rgb(242, 245, 250); fill-opacity: 1; white-space: pre; opacity: 1;\">1974</text></g><g class=\"xtick\"><text text-anchor=\"start\" x=\"0\" y=\"487\" transform=\"translate(338.46,0) rotate(90,0,481)\" style=\"font-family: 'Open Sans', verdana, arial, sans-serif; font-size: 12px; fill: rgb(242, 245, 250); fill-opacity: 1; white-space: pre; opacity: 1;\">1976</text></g><g class=\"xtick\"><text text-anchor=\"start\" x=\"0\" y=\"487\" transform=\"translate(364.31,0) rotate(90,0,481)\" style=\"font-family: 'Open Sans', verdana, arial, sans-serif; font-size: 12px; fill: rgb(242, 245, 250); fill-opacity: 1; white-space: pre; opacity: 1;\">1978</text></g><g class=\"xtick\"><text text-anchor=\"start\" x=\"0\" y=\"487\" transform=\"translate(390.15,0) rotate(90,0,481)\" style=\"font-family: 'Open Sans', verdana, arial, sans-serif; font-size: 12px; fill: rgb(242, 245, 250); fill-opacity: 1; white-space: pre; opacity: 1;\">1980</text></g><g class=\"xtick\"><text text-anchor=\"start\" x=\"0\" y=\"487\" transform=\"translate(416,0) rotate(90,0,481)\" style=\"font-family: 'Open Sans', verdana, arial, sans-serif; font-size: 12px; fill: rgb(242, 245, 250); fill-opacity: 1; white-space: pre; opacity: 1;\">1982</text></g><g class=\"xtick\"><text text-anchor=\"start\" x=\"0\" y=\"487\" transform=\"translate(441.85,0) rotate(90,0,481)\" style=\"font-family: 'Open Sans', verdana, arial, sans-serif; font-size: 12px; fill: rgb(242, 245, 250); fill-opacity: 1; white-space: pre; opacity: 1;\">1984</text></g><g class=\"xtick\"><text text-anchor=\"start\" x=\"0\" y=\"487\" transform=\"translate(467.69,0) rotate(90,0,481)\" style=\"font-family: 'Open Sans', verdana, arial, sans-serif; font-size: 12px; fill: rgb(242, 245, 250); fill-opacity: 1; white-space: pre; opacity: 1;\">1986</text></g><g class=\"xtick\"><text text-anchor=\"start\" x=\"0\" y=\"487\" transform=\"translate(493.54,0) rotate(90,0,481)\" style=\"font-family: 'Open Sans', verdana, arial, sans-serif; font-size: 12px; fill: rgb(242, 245, 250); fill-opacity: 1; white-space: pre; opacity: 1;\">1988</text></g><g class=\"xtick\"><text text-anchor=\"start\" x=\"0\" y=\"487\" transform=\"translate(519.38,0) rotate(90,0,481)\" style=\"font-family: 'Open Sans', verdana, arial, sans-serif; font-size: 12px; fill: rgb(242, 245, 250); fill-opacity: 1; white-space: pre; opacity: 1;\">1990</text></g><g class=\"xtick\"><text text-anchor=\"start\" x=\"0\" y=\"487\" transform=\"translate(545.23,0) rotate(90,0,481)\" style=\"font-family: 'Open Sans', verdana, arial, sans-serif; font-size: 12px; fill: rgb(242, 245, 250); fill-opacity: 1; white-space: pre; opacity: 1;\">1992</text></g><g class=\"xtick\"><text text-anchor=\"start\" x=\"0\" y=\"487\" transform=\"translate(571.0799999999999,0) rotate(90,0,481)\" style=\"font-family: 'Open Sans', verdana, arial, sans-serif; font-size: 12px; fill: rgb(242, 245, 250); fill-opacity: 1; white-space: pre; opacity: 1;\">1994</text></g><g class=\"xtick\"><text text-anchor=\"start\" x=\"0\" y=\"487\" transform=\"translate(596.92,0) rotate(90,0,481)\" style=\"font-family: 'Open Sans', verdana, arial, sans-serif; font-size: 12px; fill: rgb(242, 245, 250); fill-opacity: 1; white-space: pre; opacity: 1;\">1996</text></g><g class=\"xtick\"><text text-anchor=\"start\" x=\"0\" y=\"487\" transform=\"translate(622.77,0) rotate(90,0,481)\" style=\"font-family: 'Open Sans', verdana, arial, sans-serif; font-size: 12px; fill: rgb(242, 245, 250); fill-opacity: 1; white-space: pre; opacity: 1;\">1998</text></g><g class=\"xtick\"><text text-anchor=\"start\" x=\"0\" y=\"487\" transform=\"translate(648.62,0) rotate(90,0,481)\" style=\"font-family: 'Open Sans', verdana, arial, sans-serif; font-size: 12px; fill: rgb(242, 245, 250); fill-opacity: 1; white-space: pre; opacity: 1;\">2000</text></g><g class=\"xtick\"><text text-anchor=\"start\" x=\"0\" y=\"487\" transform=\"translate(674.46,0) rotate(90,0,481)\" style=\"font-family: 'Open Sans', verdana, arial, sans-serif; font-size: 12px; fill: rgb(242, 245, 250); fill-opacity: 1; white-space: pre; opacity: 1;\">2002</text></g><g class=\"xtick\"><text text-anchor=\"start\" x=\"0\" y=\"487\" transform=\"translate(700.31,0) rotate(90,0,481)\" style=\"font-family: 'Open Sans', verdana, arial, sans-serif; font-size: 12px; fill: rgb(242, 245, 250); fill-opacity: 1; white-space: pre; opacity: 1;\">2004</text></g><g class=\"xtick\"><text text-anchor=\"start\" x=\"0\" y=\"487\" transform=\"translate(726.15,0) rotate(90,0,481)\" style=\"font-family: 'Open Sans', verdana, arial, sans-serif; font-size: 12px; fill: rgb(242, 245, 250); fill-opacity: 1; white-space: pre; opacity: 1;\">2006</text></g><g class=\"xtick\"><text text-anchor=\"start\" x=\"0\" y=\"487\" transform=\"translate(752,0) rotate(90,0,481)\" style=\"font-family: 'Open Sans', verdana, arial, sans-serif; font-size: 12px; fill: rgb(242, 245, 250); fill-opacity: 1; white-space: pre; opacity: 1;\">2008</text></g><g class=\"xtick\"><text text-anchor=\"start\" x=\"0\" y=\"487\" transform=\"translate(777.85,0) rotate(90,0,481)\" style=\"font-family: 'Open Sans', verdana, arial, sans-serif; font-size: 12px; fill: rgb(242, 245, 250); fill-opacity: 1; white-space: pre; opacity: 1;\">2010</text></g><g class=\"xtick\"><text text-anchor=\"start\" x=\"0\" y=\"487\" transform=\"translate(803.69,0) rotate(90,0,481)\" style=\"font-family: 'Open Sans', verdana, arial, sans-serif; font-size: 12px; fill: rgb(242, 245, 250); fill-opacity: 1; white-space: pre; opacity: 1;\">2012</text></g><g class=\"xtick\"><text text-anchor=\"start\" x=\"0\" y=\"487\" transform=\"translate(829.54,0) rotate(90,0,481)\" style=\"font-family: 'Open Sans', verdana, arial, sans-serif; font-size: 12px; fill: rgb(242, 245, 250); fill-opacity: 1; white-space: pre; opacity: 1;\">2014</text></g><g class=\"xtick\"><text text-anchor=\"start\" x=\"0\" y=\"487\" transform=\"translate(855.38,0) rotate(90,0,481)\" style=\"font-family: 'Open Sans', verdana, arial, sans-serif; font-size: 12px; fill: rgb(242, 245, 250); fill-opacity: 1; white-space: pre; opacity: 1;\">2016</text></g><g class=\"xtick\"><text text-anchor=\"start\" x=\"0\" y=\"487\" transform=\"translate(881.23,0) rotate(90,0,481)\" style=\"font-family: 'Open Sans', verdana, arial, sans-serif; font-size: 12px; fill: rgb(242, 245, 250); fill-opacity: 1; white-space: pre; opacity: 1;\">2018</text></g><g class=\"xtick\"><text text-anchor=\"start\" x=\"0\" y=\"487\" transform=\"translate(907.08,0) rotate(90,0,481)\" style=\"font-family: 'Open Sans', verdana, arial, sans-serif; font-size: 12px; fill: rgb(242, 245, 250); fill-opacity: 1; white-space: pre; opacity: 1;\">2020</text></g></g><g class=\"yaxislayer-above\"><g class=\"ytick\"><text text-anchor=\"end\" x=\"79\" y=\"4.199999999999999\" transform=\"translate(0,455.3)\" style=\"font-family: 'Open Sans', verdana, arial, sans-serif; font-size: 12px; fill: rgb(242, 245, 250); fill-opacity: 1; white-space: pre; opacity: 1;\">0</text></g><g class=\"ytick\"><text text-anchor=\"end\" x=\"79\" y=\"4.199999999999999\" style=\"font-family: 'Open Sans', verdana, arial, sans-serif; font-size: 12px; fill: rgb(242, 245, 250); fill-opacity: 1; white-space: pre; opacity: 1;\" transform=\"translate(0,392.03)\">50</text></g><g class=\"ytick\"><text text-anchor=\"end\" x=\"79\" y=\"4.199999999999999\" style=\"font-family: 'Open Sans', verdana, arial, sans-serif; font-size: 12px; fill: rgb(242, 245, 250); fill-opacity: 1; white-space: pre; opacity: 1;\" transform=\"translate(0,328.76)\">100</text></g><g class=\"ytick\"><text text-anchor=\"end\" x=\"79\" y=\"4.199999999999999\" style=\"font-family: 'Open Sans', verdana, arial, sans-serif; font-size: 12px; fill: rgb(242, 245, 250); fill-opacity: 1; white-space: pre; opacity: 1;\" transform=\"translate(0,265.49)\">150</text></g><g class=\"ytick\"><text text-anchor=\"end\" x=\"79\" y=\"4.199999999999999\" style=\"font-family: 'Open Sans', verdana, arial, sans-serif; font-size: 12px; fill: rgb(242, 245, 250); fill-opacity: 1; white-space: pre; opacity: 1;\" transform=\"translate(0,202.22)\">200</text></g><g class=\"ytick\"><text text-anchor=\"end\" x=\"79\" y=\"4.199999999999999\" style=\"font-family: 'Open Sans', verdana, arial, sans-serif; font-size: 12px; fill: rgb(242, 245, 250); fill-opacity: 1; white-space: pre; opacity: 1;\" transform=\"translate(0,138.95)\">250</text></g></g><g class=\"overaxes-above\"/></g></g><g class=\"polarlayer\"/><g class=\"smithlayer\"/><g class=\"ternarylayer\"/><g class=\"geolayer\"/><g class=\"funnelarealayer\"/><g class=\"pielayer\"/><g class=\"iciclelayer\"/><g class=\"treemaplayer\"/><g class=\"sunburstlayer\"/><g class=\"glimages\"/><defs id=\"topdefs-a1a9d6\"><g class=\"clips\"/></defs><g class=\"layer-above\"><g class=\"imagelayer\"/><g class=\"shapelayer\"/></g><g class=\"infolayer\"><g class=\"g-gtitle\"><text class=\"gtitle\" x=\"50\" y=\"50\" text-anchor=\"start\" dy=\"0em\" style=\"font-family: 'Open Sans', verdana, arial, sans-serif; font-size: 17px; fill: rgb(242, 245, 250); opacity: 1; font-weight: normal; white-space: pre;\">Spending - Missing Counts by Column</text></g><g class=\"g-xtitle\"><text class=\"xtitle\" x=\"500\" y=\"587.503125\" text-anchor=\"middle\" style=\"font-family: 'Open Sans', verdana, arial, sans-serif; font-size: 14px; fill: rgb(242, 245, 250); opacity: 1; font-weight: normal; white-space: pre;\">Column</text></g><g class=\"g-ytitle\"><text class=\"ytitle\" transform=\"rotate(-90,34.16875,287)\" x=\"34.16875\" y=\"287\" text-anchor=\"middle\" style=\"font-family: 'Open Sans', verdana, arial, sans-serif; font-size: 14px; fill: rgb(242, 245, 250); opacity: 1; font-weight: normal; white-space: pre;\"># Missing Values</text></g></g></svg>"
     },
     "metadata": {},
     "output_type": "display_data"
    }
   ],
   "source": [
    "# analyze missing values\n",
    "\n",
    "fig = px.line(\n",
    "    title = 'Spending - Missing Counts by Column',\n",
    "    y = spending.isna().sum().values,\n",
    "    x = spending.isna().sum().keys(),\n",
    "    labels = {\n",
    "        'x': 'Column',\n",
    "        'y': '# Missing Values',\n",
    "    },\n",
    "    height = 600, width = 1000,\n",
    "    template = 'plotly_dark',\n",
    "    color_discrete_sequence = [f'{next(palette)}']\n",
    ")\n",
    "\n",
    "fig.show('svg')"
   ]
  },
  {
   "cell_type": "markdown",
   "metadata": {},
   "source": [
    "Same goes for the spending df - we will drop data from 1960-1994. This dataframe has more missing values from 1995 to 2020 compared to the arrivals dataframe"
   ]
  },
  {
   "cell_type": "code",
   "execution_count": 31,
   "metadata": {},
   "outputs": [],
   "source": [
    "# Drop missing values\n",
    "cols_to_drop = ['1960', '1961', '1962', '1963', '1964', '1965', '1966', '1967', '1968',\n",
    "       '1969', '1970', '1971', '1972', '1973', '1974', '1975', '1976', '1977',\n",
    "       '1978', '1979', '1980', '1981', '1982', '1983', '1984', '1985', '1986',\n",
    "       '1987', '1988', '1989', '1990', '1991', '1992', '1993', '1994', \n",
    "       'Indicator Name', 'Indicator Code', 'Unnamed: 65']\n",
    "\n",
    "arrivals.drop(cols_to_drop, axis=1, inplace=True)\n",
    "spending.drop(cols_to_drop, axis=1, inplace=True)"
   ]
  },
  {
   "cell_type": "code",
   "execution_count": 32,
   "metadata": {},
   "outputs": [
    {
     "name": "stdout",
     "output_type": "stream",
     "text": [
      "51\n"
     ]
    }
   ],
   "source": [
    "# Compare dataset countries against a list of countries on Earth\n",
    "\n",
    "differences = set(arrivals['Country Code']) - set(country_codes['ISO3'])\n",
    "print(len(differences))"
   ]
  },
  {
   "cell_type": "markdown",
   "metadata": {},
   "source": [
    "We have 51 \"countries\" that aren't actually countries... Lets see what these places are"
   ]
  },
  {
   "cell_type": "code",
   "execution_count": 33,
   "metadata": {},
   "outputs": [
    {
     "data": {
      "text/plain": [
       "1                       Africa Eastern and Southern\n",
       "3                        Africa Western and Central\n",
       "7                                        Arab World\n",
       "36                   Central Europe and the Baltics\n",
       "38                                  Channel Islands\n",
       "49                           Caribbean small states\n",
       "61      East Asia & Pacific (excluding high income)\n",
       "62                       Early-demographic dividend\n",
       "63                              East Asia & Pacific\n",
       "64    Europe & Central Asia (excluding high income)\n",
       "65                            Europe & Central Asia\n",
       "68                                        Euro area\n",
       "73                                   European Union\n",
       "74         Fragile and conflict affected situations\n",
       "95                                      High income\n",
       "Name: Country Name, dtype: object"
      ]
     },
     "execution_count": 33,
     "metadata": {},
     "output_type": "execute_result"
    }
   ],
   "source": [
    "not_countries = arrivals[arrivals['Country Code'].isin(list(differences))]\n",
    "not_countries['Country Name'][:15]"
   ]
  },
  {
   "cell_type": "markdown",
   "metadata": {},
   "source": [
    "These seems as though they are names for certain groups of countries. We will drop these \"countries.\""
   ]
  },
  {
   "cell_type": "code",
   "execution_count": 34,
   "metadata": {},
   "outputs": [],
   "source": [
    "arrivals = arrivals[~arrivals['Country Code'].isin(list(differences))]\n",
    "spending = spending[~spending['Country Code'].isin(list(differences))]"
   ]
  },
  {
   "cell_type": "code",
   "execution_count": 35,
   "metadata": {},
   "outputs": [],
   "source": [
    "# Reset Indexes to be continuous\n",
    "\n",
    "arrivals = arrivals.reset_index().drop(['index'], axis=1)\n",
    "spending = spending.reset_index().drop(['index'], axis=1)"
   ]
  },
  {
   "cell_type": "markdown",
   "metadata": {},
   "source": [
    "With that, we are done preprocessing the data for EDA"
   ]
  },
  {
   "cell_type": "markdown",
   "metadata": {},
   "source": [
    "## EDA"
   ]
  },
  {
   "cell_type": "code",
   "execution_count": 36,
   "metadata": {},
   "outputs": [
    {
     "data": {
      "image/svg+xml": "<svg class=\"main-svg\" xmlns=\"http://www.w3.org/2000/svg\" xmlns:xlink=\"http://www.w3.org/1999/xlink\" width=\"1000\" height=\"600\" style=\"\" viewBox=\"0 0 1000 600\"><rect x=\"0\" y=\"0\" width=\"1000\" height=\"600\" style=\"fill: rgb(17, 17, 17); fill-opacity: 1;\"/><defs id=\"defs-b00f5d\"><g class=\"clips\"><clipPath id=\"clipb00f5dxyplot\" class=\"plotclip\"><rect width=\"840\" height=\"385\"/></clipPath><clipPath class=\"axesclip\" id=\"clipb00f5dx\"><rect x=\"80\" y=\"0\" width=\"840\" height=\"600\"/></clipPath><clipPath class=\"axesclip\" id=\"clipb00f5dy\"><rect x=\"0\" y=\"100\" width=\"1000\" height=\"385\"/></clipPath><clipPath class=\"axesclip\" id=\"clipb00f5dxy\"><rect x=\"80\" y=\"100\" width=\"840\" height=\"385\"/></clipPath></g><g class=\"gradients\"/><g class=\"patterns\"/></defs><g class=\"bglayer\"/><g class=\"layer-below\"><g class=\"imagelayer\"/><g class=\"shapelayer\"/></g><g class=\"cartesianlayer\"><g class=\"subplot xy\"><g class=\"layer-subplot\"><g class=\"shapelayer\"/><g class=\"imagelayer\"/></g><g class=\"gridlayer\"><g class=\"x\"/><g class=\"y\"><path class=\"ygrid crisp\" transform=\"translate(0,438.46)\" d=\"M80,0h840\" style=\"stroke: rgb(40, 52, 66); stroke-opacity: 1; stroke-width: 1px;\"/><path class=\"ygrid crisp\" transform=\"translate(0,391.92)\" d=\"M80,0h840\" style=\"stroke: rgb(40, 52, 66); stroke-opacity: 1; stroke-width: 1px;\"/><path class=\"ygrid crisp\" transform=\"translate(0,345.38)\" d=\"M80,0h840\" style=\"stroke: rgb(40, 52, 66); stroke-opacity: 1; stroke-width: 1px;\"/><path class=\"ygrid crisp\" transform=\"translate(0,298.84000000000003)\" d=\"M80,0h840\" style=\"stroke: rgb(40, 52, 66); stroke-opacity: 1; stroke-width: 1px;\"/><path class=\"ygrid crisp\" transform=\"translate(0,252.3)\" d=\"M80,0h840\" style=\"stroke: rgb(40, 52, 66); stroke-opacity: 1; stroke-width: 1px;\"/><path class=\"ygrid crisp\" transform=\"translate(0,205.76)\" d=\"M80,0h840\" style=\"stroke: rgb(40, 52, 66); stroke-opacity: 1; stroke-width: 1px;\"/><path class=\"ygrid crisp\" transform=\"translate(0,159.22)\" d=\"M80,0h840\" style=\"stroke: rgb(40, 52, 66); stroke-opacity: 1; stroke-width: 1px;\"/><path class=\"ygrid crisp\" transform=\"translate(0,112.68)\" d=\"M80,0h840\" style=\"stroke: rgb(40, 52, 66); stroke-opacity: 1; stroke-width: 1px;\"/></g></g><g class=\"zerolinelayer\"><path class=\"yzl zl crisp\" transform=\"translate(0,485)\" d=\"M80,0h840\" style=\"stroke: rgb(40, 52, 66); stroke-opacity: 1; stroke-width: 2px;\"/></g><path class=\"xlines-below\"/><path class=\"ylines-below\"/><g class=\"overlines-below\"/><g class=\"xaxislayer-below\"/><g class=\"yaxislayer-below\"/><g class=\"overaxes-below\"/><g class=\"plot\" transform=\"translate(80,100)\" clip-path=\"url(#clipb00f5dxyplot)\"><g class=\"barlayer mlayer\"><g class=\"trace bars\" style=\"opacity: 1;\"><g class=\"points\"><g class=\"point\"><path d=\"M5.6,385V19.25H50.4V385Z\" style=\"vector-effect: non-scaling-stroke; opacity: 1; stroke-width: 0.5px; fill: rgb(244, 162, 97); fill-opacity: 1; stroke: rgb(17, 17, 17); stroke-opacity: 1;\"/></g><g class=\"point\"><path d=\"M61.6,385V262.18H106.4V385Z\" style=\"vector-effect: non-scaling-stroke; opacity: 1; stroke-width: 0.5px; fill: rgb(244, 162, 97); fill-opacity: 1; stroke: rgb(17, 17, 17); stroke-opacity: 1;\"/></g><g class=\"point\"><path d=\"M117.6,385V287.52H162.4V385Z\" style=\"vector-effect: non-scaling-stroke; opacity: 1; stroke-width: 0.5px; fill: rgb(244, 162, 97); fill-opacity: 1; stroke: rgb(17, 17, 17); stroke-opacity: 1;\"/></g><g class=\"point\"><path d=\"M173.6,385V320.81H218.4V385Z\" style=\"vector-effect: non-scaling-stroke; opacity: 1; stroke-width: 0.5px; fill: rgb(244, 162, 97); fill-opacity: 1; stroke: rgb(17, 17, 17); stroke-opacity: 1;\"/></g><g class=\"point\"><path d=\"M229.6,385V324.32H274.4V385Z\" style=\"vector-effect: non-scaling-stroke; opacity: 1; stroke-width: 0.5px; fill: rgb(244, 162, 97); fill-opacity: 1; stroke: rgb(17, 17, 17); stroke-opacity: 1;\"/></g><g class=\"point\"><path d=\"M285.6,385V324.33H330.4V385Z\" style=\"vector-effect: non-scaling-stroke; opacity: 1; stroke-width: 0.5px; fill: rgb(244, 162, 97); fill-opacity: 1; stroke: rgb(17, 17, 17); stroke-opacity: 1;\"/></g><g class=\"point\"><path d=\"M341.6,385V335.74H386.4V385Z\" style=\"vector-effect: non-scaling-stroke; opacity: 1; stroke-width: 0.5px; fill: rgb(244, 162, 97); fill-opacity: 1; stroke: rgb(17, 17, 17); stroke-opacity: 1;\"/></g><g class=\"point\"><path d=\"M397.6,385V341.56H442.4V385Z\" style=\"vector-effect: non-scaling-stroke; opacity: 1; stroke-width: 0.5px; fill: rgb(244, 162, 97); fill-opacity: 1; stroke: rgb(17, 17, 17); stroke-opacity: 1;\"/></g><g class=\"point\"><path d=\"M453.6,385V341.88H498.4V385Z\" style=\"vector-effect: non-scaling-stroke; opacity: 1; stroke-width: 0.5px; fill: rgb(244, 162, 97); fill-opacity: 1; stroke: rgb(17, 17, 17); stroke-opacity: 1;\"/></g><g class=\"point\"><path d=\"M509.6,385V345.63H554.4V385Z\" style=\"vector-effect: non-scaling-stroke; opacity: 1; stroke-width: 0.5px; fill: rgb(244, 162, 97); fill-opacity: 1; stroke: rgb(17, 17, 17); stroke-opacity: 1;\"/></g><g class=\"point\"><path d=\"M565.6,385V348.85H610.4V385Z\" style=\"vector-effect: non-scaling-stroke; opacity: 1; stroke-width: 0.5px; fill: rgb(244, 162, 97); fill-opacity: 1; stroke: rgb(17, 17, 17); stroke-opacity: 1;\"/></g><g class=\"point\"><path d=\"M621.6,385V352.02H666.4V385Z\" style=\"vector-effect: non-scaling-stroke; opacity: 1; stroke-width: 0.5px; fill: rgb(244, 162, 97); fill-opacity: 1; stroke: rgb(17, 17, 17); stroke-opacity: 1;\"/></g><g class=\"point\"><path d=\"M677.6,385V352.59H722.4V385Z\" style=\"vector-effect: non-scaling-stroke; opacity: 1; stroke-width: 0.5px; fill: rgb(244, 162, 97); fill-opacity: 1; stroke: rgb(17, 17, 17); stroke-opacity: 1;\"/></g><g class=\"point\"><path d=\"M733.6,385V353.61H778.4V385Z\" style=\"vector-effect: non-scaling-stroke; opacity: 1; stroke-width: 0.5px; fill: rgb(244, 162, 97); fill-opacity: 1; stroke: rgb(17, 17, 17); stroke-opacity: 1;\"/></g><g class=\"point\"><path d=\"M789.6,385V353.72H834.4V385Z\" style=\"vector-effect: non-scaling-stroke; opacity: 1; stroke-width: 0.5px; fill: rgb(244, 162, 97); fill-opacity: 1; stroke: rgb(17, 17, 17); stroke-opacity: 1;\"/></g></g></g></g></g><g class=\"overplot\"/><path class=\"xlines-above crisp\" d=\"M0,0\" style=\"fill: none;\"/><path class=\"ylines-above crisp\" d=\"M0,0\" style=\"fill: none;\"/><g class=\"overlines-above\"/><g class=\"xaxislayer-above\"><g class=\"xtick\"><text text-anchor=\"start\" x=\"0\" y=\"498\" transform=\"translate(108,0) rotate(30,0,492)\" style=\"font-family: 'Open Sans', verdana, arial, sans-serif; font-size: 12px; fill: rgb(242, 245, 250); fill-opacity: 1; white-space: pre; opacity: 1;\">United States</text></g><g class=\"xtick\"><text text-anchor=\"start\" x=\"0\" y=\"498\" transform=\"translate(164,0) rotate(30,0,492)\" style=\"font-family: 'Open Sans', verdana, arial, sans-serif; font-size: 12px; fill: rgb(242, 245, 250); fill-opacity: 1; white-space: pre; opacity: 1;\">France</text></g><g class=\"xtick\"><text text-anchor=\"start\" x=\"0\" y=\"498\" transform=\"translate(220,0) rotate(30,0,492)\" style=\"font-family: 'Open Sans', verdana, arial, sans-serif; font-size: 12px; fill: rgb(242, 245, 250); fill-opacity: 1; white-space: pre; opacity: 1;\">Germany</text></g><g class=\"xtick\"><text text-anchor=\"start\" x=\"0\" y=\"498\" transform=\"translate(276,0) rotate(30,0,492)\" style=\"font-family: 'Open Sans', verdana, arial, sans-serif; font-size: 12px; fill: rgb(242, 245, 250); fill-opacity: 1; white-space: pre; opacity: 1;\">Italy</text></g><g class=\"xtick\"><text text-anchor=\"start\" x=\"0\" y=\"498\" transform=\"translate(332,0) rotate(30,0,492)\" style=\"font-family: 'Open Sans', verdana, arial, sans-serif; font-size: 12px; fill: rgb(242, 245, 250); fill-opacity: 1; white-space: pre; opacity: 1;\">Thailand</text></g><g class=\"xtick\"><text text-anchor=\"start\" x=\"0\" y=\"498\" transform=\"translate(388,0) rotate(30,0,492)\" style=\"font-family: 'Open Sans', verdana, arial, sans-serif; font-size: 12px; fill: rgb(242, 245, 250); fill-opacity: 1; white-space: pre; opacity: 1;\">Australia</text></g><g class=\"xtick\"><text text-anchor=\"start\" x=\"0\" y=\"498\" transform=\"translate(444,0) rotate(30,0,492)\" style=\"font-family: 'Open Sans', verdana, arial, sans-serif; font-size: 12px; fill: rgb(242, 245, 250); fill-opacity: 1; white-space: pre; opacity: 1;\">Hong Kong SAR, China</text></g><g class=\"xtick\"><text text-anchor=\"start\" x=\"0\" y=\"498\" transform=\"translate(500,0) rotate(30,0,492)\" style=\"font-family: 'Open Sans', verdana, arial, sans-serif; font-size: 12px; fill: rgb(242, 245, 250); fill-opacity: 1; white-space: pre; opacity: 1;\">Turkey</text></g><g class=\"xtick\"><text text-anchor=\"start\" x=\"0\" y=\"498\" transform=\"translate(556,0) rotate(30,0,492)\" style=\"font-family: 'Open Sans', verdana, arial, sans-serif; font-size: 12px; fill: rgb(242, 245, 250); fill-opacity: 1; white-space: pre; opacity: 1;\">Macao SAR, China</text></g><g class=\"xtick\"><text text-anchor=\"start\" x=\"0\" y=\"498\" transform=\"translate(612,0) rotate(30,0,492)\" style=\"font-family: 'Open Sans', verdana, arial, sans-serif; font-size: 12px; fill: rgb(242, 245, 250); fill-opacity: 1; white-space: pre; opacity: 1;\">Japan</text></g><g class=\"xtick\"><text text-anchor=\"start\" x=\"0\" y=\"498\" transform=\"translate(668,0) rotate(30,0,492)\" style=\"font-family: 'Open Sans', verdana, arial, sans-serif; font-size: 12px; fill: rgb(242, 245, 250); fill-opacity: 1; white-space: pre; opacity: 1;\">Switzerland</text></g><g class=\"xtick\"><text text-anchor=\"start\" x=\"0\" y=\"498\" transform=\"translate(724,0) rotate(30,0,492)\" style=\"font-family: 'Open Sans', verdana, arial, sans-serif; font-size: 12px; fill: rgb(242, 245, 250); fill-opacity: 1; white-space: pre; opacity: 1;\">Malaysia</text></g><g class=\"xtick\"><text text-anchor=\"start\" x=\"0\" y=\"498\" transform=\"translate(780,0) rotate(30,0,492)\" style=\"font-family: 'Open Sans', verdana, arial, sans-serif; font-size: 12px; fill: rgb(242, 245, 250); fill-opacity: 1; white-space: pre; opacity: 1;\">Mexico</text></g><g class=\"xtick\"><text text-anchor=\"start\" x=\"0\" y=\"498\" transform=\"translate(836,0) rotate(30,0,492)\" style=\"font-family: 'Open Sans', verdana, arial, sans-serif; font-size: 12px; fill: rgb(242, 245, 250); fill-opacity: 1; white-space: pre; opacity: 1;\">Korea, Rep.</text></g><g class=\"xtick\"><text text-anchor=\"start\" x=\"0\" y=\"498\" transform=\"translate(892,0) rotate(30,0,492)\" style=\"font-family: 'Open Sans', verdana, arial, sans-serif; font-size: 12px; fill: rgb(242, 245, 250); fill-opacity: 1; white-space: pre; opacity: 1;\">Greece</text></g></g><g class=\"yaxislayer-above\"><g class=\"ytick\"><text text-anchor=\"end\" x=\"79\" y=\"4.199999999999999\" transform=\"translate(0,485)\" style=\"font-family: 'Open Sans', verdana, arial, sans-serif; font-size: 12px; fill: rgb(242, 245, 250); fill-opacity: 1; white-space: pre; opacity: 1;\">0</text></g><g class=\"ytick\"><text text-anchor=\"end\" x=\"79\" y=\"4.199999999999999\" style=\"font-family: 'Open Sans', verdana, arial, sans-serif; font-size: 12px; fill: rgb(242, 245, 250); fill-opacity: 1; white-space: pre; opacity: 1;\" transform=\"translate(0,438.46)\">0.5T</text></g><g class=\"ytick\"><text text-anchor=\"end\" x=\"79\" y=\"4.199999999999999\" style=\"font-family: 'Open Sans', verdana, arial, sans-serif; font-size: 12px; fill: rgb(242, 245, 250); fill-opacity: 1; white-space: pre; opacity: 1;\" transform=\"translate(0,391.92)\">1T</text></g><g class=\"ytick\"><text text-anchor=\"end\" x=\"79\" y=\"4.199999999999999\" style=\"font-family: 'Open Sans', verdana, arial, sans-serif; font-size: 12px; fill: rgb(242, 245, 250); fill-opacity: 1; white-space: pre; opacity: 1;\" transform=\"translate(0,345.38)\">1.5T</text></g><g class=\"ytick\"><text text-anchor=\"end\" x=\"79\" y=\"4.199999999999999\" style=\"font-family: 'Open Sans', verdana, arial, sans-serif; font-size: 12px; fill: rgb(242, 245, 250); fill-opacity: 1; white-space: pre; opacity: 1;\" transform=\"translate(0,298.84000000000003)\">2T</text></g><g class=\"ytick\"><text text-anchor=\"end\" x=\"79\" y=\"4.199999999999999\" style=\"font-family: 'Open Sans', verdana, arial, sans-serif; font-size: 12px; fill: rgb(242, 245, 250); fill-opacity: 1; white-space: pre; opacity: 1;\" transform=\"translate(0,252.3)\">2.5T</text></g><g class=\"ytick\"><text text-anchor=\"end\" x=\"79\" y=\"4.199999999999999\" style=\"font-family: 'Open Sans', verdana, arial, sans-serif; font-size: 12px; fill: rgb(242, 245, 250); fill-opacity: 1; white-space: pre; opacity: 1;\" transform=\"translate(0,205.76)\">3T</text></g><g class=\"ytick\"><text text-anchor=\"end\" x=\"79\" y=\"4.199999999999999\" style=\"font-family: 'Open Sans', verdana, arial, sans-serif; font-size: 12px; fill: rgb(242, 245, 250); fill-opacity: 1; white-space: pre; opacity: 1;\" transform=\"translate(0,159.22)\">3.5T</text></g><g class=\"ytick\"><text text-anchor=\"end\" x=\"79\" y=\"4.199999999999999\" style=\"font-family: 'Open Sans', verdana, arial, sans-serif; font-size: 12px; fill: rgb(242, 245, 250); fill-opacity: 1; white-space: pre; opacity: 1;\" transform=\"translate(0,112.68)\">4T</text></g></g><g class=\"overaxes-above\"/></g></g><g class=\"polarlayer\"/><g class=\"smithlayer\"/><g class=\"ternarylayer\"/><g class=\"geolayer\"/><g class=\"funnelarealayer\"/><g class=\"pielayer\"/><g class=\"iciclelayer\"/><g class=\"treemaplayer\"/><g class=\"sunburstlayer\"/><g class=\"glimages\"/><defs id=\"topdefs-b00f5d\"><g class=\"clips\"/></defs><g class=\"layer-above\"><g class=\"imagelayer\"/><g class=\"shapelayer\"/></g><g class=\"infolayer\"><g class=\"g-gtitle\"><text class=\"gtitle\" x=\"50\" y=\"50\" text-anchor=\"start\" dy=\"0em\" style=\"font-family: 'Open Sans', verdana, arial, sans-serif; font-size: 17px; fill: rgb(242, 245, 250); opacity: 1; font-weight: normal; white-space: pre;\">Top 15 Countries with Highest Revenue from 1995 to 2020</text></g><g class=\"g-xtitle\"><text class=\"xtitle\" x=\"500\" y=\"587.7970703125\" text-anchor=\"middle\" style=\"font-family: 'Open Sans', verdana, arial, sans-serif; font-size: 14px; fill: rgb(242, 245, 250); opacity: 1; font-weight: normal; white-space: pre;\">Country Name</text></g><g class=\"g-ytitle\"><text class=\"ytitle\" transform=\"rotate(-90,30.184375000000003,292.5)\" x=\"30.184375000000003\" y=\"292.5\" text-anchor=\"middle\" style=\"font-family: 'Open Sans', verdana, arial, sans-serif; font-size: 14px; fill: rgb(242, 245, 250); opacity: 1; font-weight: normal; white-space: pre;\">total_revenue</text></g></g></svg>"
     },
     "metadata": {},
     "output_type": "display_data"
    }
   ],
   "source": [
    "# Let's see how much each country has earned in total over the years\n",
    "\n",
    "df = spending.drop(['Country Name', 'Country Code'], axis=1).T\n",
    "total_spending_by_country = [df[x].sum() for x in df.columns]\n",
    "\n",
    "spending['total_revenue'] = total_spending_by_country\n",
    "\n",
    "fig = px.bar(\n",
    "    spending.sort_values(by='total_revenue', ascending=False).reset_index(drop=True)[:15],\n",
    "    x = 'Country Name',\n",
    "    y = 'total_revenue',\n",
    "    hover_name = 'Country Code',\n",
    "    template = 'plotly_dark',\n",
    "    height = 600, width = 1000,\n",
    "    color_discrete_sequence = [f'{next(palette)}'],\n",
    "    title = 'Top 15 Countries with Highest Revenue from 1995 to 2020'\n",
    "    )\n",
    "    \n",
    "\n",
    "fig.show('svg')"
   ]
  },
  {
   "cell_type": "code",
   "execution_count": 37,
   "metadata": {},
   "outputs": [
    {
     "name": "stdout",
     "output_type": "stream",
     "text": [
      "#e76f51\n"
     ]
    }
   ],
   "source": [
    "print(str(next(palette)))"
   ]
  },
  {
   "cell_type": "markdown",
   "metadata": {},
   "source": [
    "The US is far ahead of other countries in terms of money that tourists spend. \n",
    "\n",
    "It shouldn't be a surprise if the arrivals graph looks just the same. "
   ]
  },
  {
   "cell_type": "code",
   "execution_count": 39,
   "metadata": {},
   "outputs": [
    {
     "data": {
      "image/svg+xml": "<svg class=\"main-svg\" xmlns=\"http://www.w3.org/2000/svg\" xmlns:xlink=\"http://www.w3.org/1999/xlink\" width=\"1000\" height=\"600\" style=\"\" viewBox=\"0 0 1000 600\"><rect x=\"0\" y=\"0\" width=\"1000\" height=\"600\" style=\"fill: rgb(17, 17, 17); fill-opacity: 1;\"/><defs id=\"defs-d65426\"><g class=\"clips\"><clipPath id=\"clipd65426xyplot\" class=\"plotclip\"><rect width=\"840\" height=\"385\"/></clipPath><clipPath class=\"axesclip\" id=\"clipd65426x\"><rect x=\"80\" y=\"0\" width=\"840\" height=\"600\"/></clipPath><clipPath class=\"axesclip\" id=\"clipd65426y\"><rect x=\"0\" y=\"100\" width=\"1000\" height=\"385\"/></clipPath><clipPath class=\"axesclip\" id=\"clipd65426xy\"><rect x=\"80\" y=\"100\" width=\"840\" height=\"385\"/></clipPath></g><g class=\"gradients\"/><g class=\"patterns\"/></defs><g class=\"bglayer\"/><g class=\"layer-below\"><g class=\"imagelayer\"/><g class=\"shapelayer\"/></g><g class=\"cartesianlayer\"><g class=\"subplot xy\"><g class=\"layer-subplot\"><g class=\"shapelayer\"/><g class=\"imagelayer\"/></g><g class=\"gridlayer\"><g class=\"x\"/><g class=\"y\"><path class=\"ygrid crisp\" transform=\"translate(0,434.35)\" d=\"M80,0h840\" style=\"stroke: rgb(40, 52, 66); stroke-opacity: 1; stroke-width: 1px;\"/><path class=\"ygrid crisp\" transform=\"translate(0,383.7)\" d=\"M80,0h840\" style=\"stroke: rgb(40, 52, 66); stroke-opacity: 1; stroke-width: 1px;\"/><path class=\"ygrid crisp\" transform=\"translate(0,333.05)\" d=\"M80,0h840\" style=\"stroke: rgb(40, 52, 66); stroke-opacity: 1; stroke-width: 1px;\"/><path class=\"ygrid crisp\" transform=\"translate(0,282.4)\" d=\"M80,0h840\" style=\"stroke: rgb(40, 52, 66); stroke-opacity: 1; stroke-width: 1px;\"/><path class=\"ygrid crisp\" transform=\"translate(0,231.75)\" d=\"M80,0h840\" style=\"stroke: rgb(40, 52, 66); stroke-opacity: 1; stroke-width: 1px;\"/><path class=\"ygrid crisp\" transform=\"translate(0,181.1)\" d=\"M80,0h840\" style=\"stroke: rgb(40, 52, 66); stroke-opacity: 1; stroke-width: 1px;\"/><path class=\"ygrid crisp\" transform=\"translate(0,130.46)\" d=\"M80,0h840\" style=\"stroke: rgb(40, 52, 66); stroke-opacity: 1; stroke-width: 1px;\"/></g></g><g class=\"zerolinelayer\"><path class=\"yzl zl crisp\" transform=\"translate(0,485)\" d=\"M80,0h840\" style=\"stroke: rgb(40, 52, 66); stroke-opacity: 1; stroke-width: 2px;\"/></g><path class=\"xlines-below\"/><path class=\"ylines-below\"/><g class=\"overlines-below\"/><g class=\"xaxislayer-below\"/><g class=\"yaxislayer-below\"/><g class=\"overaxes-below\"/><g class=\"plot\" transform=\"translate(80,100)\" clip-path=\"url(#clipd65426xyplot)\"><g class=\"barlayer mlayer\"><g class=\"trace bars\" style=\"opacity: 1;\"><g class=\"points\"><g class=\"point\"><path d=\"M5.6,385V19.25H50.4V385Z\" style=\"vector-effect: non-scaling-stroke; opacity: 1; stroke-width: 0.5px; fill: rgb(233, 196, 106); fill-opacity: 1; stroke: rgb(17, 17, 17); stroke-opacity: 1;\"/></g><g class=\"point\"><path d=\"M61.6,385V55.76H106.4V385Z\" style=\"vector-effect: non-scaling-stroke; opacity: 1; stroke-width: 0.5px; fill: rgb(233, 196, 106); fill-opacity: 1; stroke: rgb(17, 17, 17); stroke-opacity: 1;\"/></g><g class=\"point\"><path d=\"M117.6,385V97.76H162.4V385Z\" style=\"vector-effect: non-scaling-stroke; opacity: 1; stroke-width: 0.5px; fill: rgb(233, 196, 106); fill-opacity: 1; stroke: rgb(17, 17, 17); stroke-opacity: 1;\"/></g><g class=\"point\"><path d=\"M173.6,385V146.21H218.4V385Z\" style=\"vector-effect: non-scaling-stroke; opacity: 1; stroke-width: 0.5px; fill: rgb(233, 196, 106); fill-opacity: 1; stroke: rgb(17, 17, 17); stroke-opacity: 1;\"/></g><g class=\"point\"><path d=\"M229.6,385V149.93H274.4V385Z\" style=\"vector-effect: non-scaling-stroke; opacity: 1; stroke-width: 0.5px; fill: rgb(233, 196, 106); fill-opacity: 1; stroke: rgb(17, 17, 17); stroke-opacity: 1;\"/></g><g class=\"point\"><path d=\"M285.6,385V202.19H330.4V385Z\" style=\"vector-effect: non-scaling-stroke; opacity: 1; stroke-width: 0.5px; fill: rgb(233, 196, 106); fill-opacity: 1; stroke: rgb(17, 17, 17); stroke-opacity: 1;\"/></g><g class=\"point\"><path d=\"M341.6,385V202.53H386.4V385Z\" style=\"vector-effect: non-scaling-stroke; opacity: 1; stroke-width: 0.5px; fill: rgb(233, 196, 106); fill-opacity: 1; stroke: rgb(17, 17, 17); stroke-opacity: 1;\"/></g><g class=\"point\"><path d=\"M397.6,385V271.26H442.4V385Z\" style=\"vector-effect: non-scaling-stroke; opacity: 1; stroke-width: 0.5px; fill: rgb(233, 196, 106); fill-opacity: 1; stroke: rgb(17, 17, 17); stroke-opacity: 1;\"/></g><g class=\"point\"><path d=\"M453.6,385V278.33H498.4V385Z\" style=\"vector-effect: non-scaling-stroke; opacity: 1; stroke-width: 0.5px; fill: rgb(233, 196, 106); fill-opacity: 1; stroke: rgb(17, 17, 17); stroke-opacity: 1;\"/></g><g class=\"point\"><path d=\"M509.6,385V296.19H554.4V385Z\" style=\"vector-effect: non-scaling-stroke; opacity: 1; stroke-width: 0.5px; fill: rgb(233, 196, 106); fill-opacity: 1; stroke: rgb(17, 17, 17); stroke-opacity: 1;\"/></g><g class=\"point\"><path d=\"M565.6,385V302.62H610.4V385Z\" style=\"vector-effect: non-scaling-stroke; opacity: 1; stroke-width: 0.5px; fill: rgb(233, 196, 106); fill-opacity: 1; stroke: rgb(17, 17, 17); stroke-opacity: 1;\"/></g><g class=\"point\"><path d=\"M621.6,385V305.87H666.4V385Z\" style=\"vector-effect: non-scaling-stroke; opacity: 1; stroke-width: 0.5px; fill: rgb(233, 196, 106); fill-opacity: 1; stroke: rgb(17, 17, 17); stroke-opacity: 1;\"/></g><g class=\"point\"><path d=\"M677.6,385V318.75H722.4V385Z\" style=\"vector-effect: non-scaling-stroke; opacity: 1; stroke-width: 0.5px; fill: rgb(233, 196, 106); fill-opacity: 1; stroke: rgb(17, 17, 17); stroke-opacity: 1;\"/></g><g class=\"point\"><path d=\"M733.6,385V320.12H778.4V385Z\" style=\"vector-effect: non-scaling-stroke; opacity: 1; stroke-width: 0.5px; fill: rgb(233, 196, 106); fill-opacity: 1; stroke: rgb(17, 17, 17); stroke-opacity: 1;\"/></g><g class=\"point\"><path d=\"M789.6,385V326.36H834.4V385Z\" style=\"vector-effect: non-scaling-stroke; opacity: 1; stroke-width: 0.5px; fill: rgb(233, 196, 106); fill-opacity: 1; stroke: rgb(17, 17, 17); stroke-opacity: 1;\"/></g></g></g></g></g><g class=\"overplot\"/><path class=\"xlines-above crisp\" d=\"M0,0\" style=\"fill: none;\"/><path class=\"ylines-above crisp\" d=\"M0,0\" style=\"fill: none;\"/><g class=\"overlines-above\"/><g class=\"xaxislayer-above\"><g class=\"xtick\"><text text-anchor=\"start\" x=\"0\" y=\"498\" transform=\"translate(108,0) rotate(30,0,492)\" style=\"font-family: 'Open Sans', verdana, arial, sans-serif; font-size: 12px; fill: rgb(242, 245, 250); fill-opacity: 1; white-space: pre; opacity: 1;\">France</text></g><g class=\"xtick\"><text text-anchor=\"start\" x=\"0\" y=\"498\" transform=\"translate(164,0) rotate(30,0,492)\" style=\"font-family: 'Open Sans', verdana, arial, sans-serif; font-size: 12px; fill: rgb(242, 245, 250); fill-opacity: 1; white-space: pre; opacity: 1;\">United States</text></g><g class=\"xtick\"><text text-anchor=\"start\" x=\"0\" y=\"498\" transform=\"translate(220,0) rotate(30,0,492)\" style=\"font-family: 'Open Sans', verdana, arial, sans-serif; font-size: 12px; fill: rgb(242, 245, 250); fill-opacity: 1; white-space: pre; opacity: 1;\">China</text></g><g class=\"xtick\"><text text-anchor=\"start\" x=\"0\" y=\"498\" transform=\"translate(276,0) rotate(30,0,492)\" style=\"font-family: 'Open Sans', verdana, arial, sans-serif; font-size: 12px; fill: rgb(242, 245, 250); fill-opacity: 1; white-space: pre; opacity: 1;\">Mexico</text></g><g class=\"xtick\"><text text-anchor=\"start\" x=\"0\" y=\"498\" transform=\"translate(332,0) rotate(30,0,492)\" style=\"font-family: 'Open Sans', verdana, arial, sans-serif; font-size: 12px; fill: rgb(242, 245, 250); fill-opacity: 1; white-space: pre; opacity: 1;\">Spain</text></g><g class=\"xtick\"><text text-anchor=\"start\" x=\"0\" y=\"498\" transform=\"translate(388,0) rotate(30,0,492)\" style=\"font-family: 'Open Sans', verdana, arial, sans-serif; font-size: 12px; fill: rgb(242, 245, 250); fill-opacity: 1; white-space: pre; opacity: 1;\">Poland</text></g><g class=\"xtick\"><text text-anchor=\"start\" x=\"0\" y=\"498\" transform=\"translate(444,0) rotate(30,0,492)\" style=\"font-family: 'Open Sans', verdana, arial, sans-serif; font-size: 12px; fill: rgb(242, 245, 250); fill-opacity: 1; white-space: pre; opacity: 1;\">Italy</text></g><g class=\"xtick\"><text text-anchor=\"start\" x=\"0\" y=\"498\" transform=\"translate(500,0) rotate(30,0,492)\" style=\"font-family: 'Open Sans', verdana, arial, sans-serif; font-size: 12px; fill: rgb(242, 245, 250); fill-opacity: 1; white-space: pre; opacity: 1;\">Croatia</text></g><g class=\"xtick\"><text text-anchor=\"start\" x=\"0\" y=\"498\" transform=\"translate(556,0) rotate(30,0,492)\" style=\"font-family: 'Open Sans', verdana, arial, sans-serif; font-size: 12px; fill: rgb(242, 245, 250); fill-opacity: 1; white-space: pre; opacity: 1;\">Hungary</text></g><g class=\"xtick\"><text text-anchor=\"start\" x=\"0\" y=\"498\" transform=\"translate(612,0) rotate(30,0,492)\" style=\"font-family: 'Open Sans', verdana, arial, sans-serif; font-size: 12px; fill: rgb(242, 245, 250); fill-opacity: 1; white-space: pre; opacity: 1;\">Canada</text></g><g class=\"xtick\"><text text-anchor=\"start\" x=\"0\" y=\"498\" transform=\"translate(668,0) rotate(30,0,492)\" style=\"font-family: 'Open Sans', verdana, arial, sans-serif; font-size: 12px; fill: rgb(242, 245, 250); fill-opacity: 1; white-space: pre; opacity: 1;\">Hong Kong SAR, China</text></g><g class=\"xtick\"><text text-anchor=\"start\" x=\"0\" y=\"498\" transform=\"translate(724,0) rotate(30,0,492)\" style=\"font-family: 'Open Sans', verdana, arial, sans-serif; font-size: 12px; fill: rgb(242, 245, 250); fill-opacity: 1; white-space: pre; opacity: 1;\">United Kingdom</text></g><g class=\"xtick\"><text text-anchor=\"start\" x=\"0\" y=\"498\" transform=\"translate(780,0) rotate(30,0,492)\" style=\"font-family: 'Open Sans', verdana, arial, sans-serif; font-size: 12px; fill: rgb(242, 245, 250); fill-opacity: 1; white-space: pre; opacity: 1;\">Turkey</text></g><g class=\"xtick\"><text text-anchor=\"start\" x=\"0\" y=\"498\" transform=\"translate(836,0) rotate(30,0,492)\" style=\"font-family: 'Open Sans', verdana, arial, sans-serif; font-size: 12px; fill: rgb(242, 245, 250); fill-opacity: 1; white-space: pre; opacity: 1;\">Germany</text></g><g class=\"xtick\"><text text-anchor=\"start\" x=\"0\" y=\"498\" transform=\"translate(892,0) rotate(30,0,492)\" style=\"font-family: 'Open Sans', verdana, arial, sans-serif; font-size: 12px; fill: rgb(242, 245, 250); fill-opacity: 1; white-space: pre; opacity: 1;\">Russian Federation</text></g></g><g class=\"yaxislayer-above\"><g class=\"ytick\"><text text-anchor=\"end\" x=\"79\" y=\"4.199999999999999\" transform=\"translate(0,485)\" style=\"font-family: 'Open Sans', verdana, arial, sans-serif; font-size: 12px; fill: rgb(242, 245, 250); fill-opacity: 1; white-space: pre; opacity: 1;\">0</text></g><g class=\"ytick\"><text text-anchor=\"end\" x=\"79\" y=\"4.199999999999999\" style=\"font-family: 'Open Sans', verdana, arial, sans-serif; font-size: 12px; fill: rgb(242, 245, 250); fill-opacity: 1; white-space: pre; opacity: 1;\" transform=\"translate(0,434.35)\">1B</text></g><g class=\"ytick\"><text text-anchor=\"end\" x=\"79\" y=\"4.199999999999999\" style=\"font-family: 'Open Sans', verdana, arial, sans-serif; font-size: 12px; fill: rgb(242, 245, 250); fill-opacity: 1; white-space: pre; opacity: 1;\" transform=\"translate(0,383.7)\">2B</text></g><g class=\"ytick\"><text text-anchor=\"end\" x=\"79\" y=\"4.199999999999999\" style=\"font-family: 'Open Sans', verdana, arial, sans-serif; font-size: 12px; fill: rgb(242, 245, 250); fill-opacity: 1; white-space: pre; opacity: 1;\" transform=\"translate(0,333.05)\">3B</text></g><g class=\"ytick\"><text text-anchor=\"end\" x=\"79\" y=\"4.199999999999999\" style=\"font-family: 'Open Sans', verdana, arial, sans-serif; font-size: 12px; fill: rgb(242, 245, 250); fill-opacity: 1; white-space: pre; opacity: 1;\" transform=\"translate(0,282.4)\">4B</text></g><g class=\"ytick\"><text text-anchor=\"end\" x=\"79\" y=\"4.199999999999999\" style=\"font-family: 'Open Sans', verdana, arial, sans-serif; font-size: 12px; fill: rgb(242, 245, 250); fill-opacity: 1; white-space: pre; opacity: 1;\" transform=\"translate(0,231.75)\">5B</text></g><g class=\"ytick\"><text text-anchor=\"end\" x=\"79\" y=\"4.199999999999999\" style=\"font-family: 'Open Sans', verdana, arial, sans-serif; font-size: 12px; fill: rgb(242, 245, 250); fill-opacity: 1; white-space: pre; opacity: 1;\" transform=\"translate(0,181.1)\">6B</text></g><g class=\"ytick\"><text text-anchor=\"end\" x=\"79\" y=\"4.199999999999999\" style=\"font-family: 'Open Sans', verdana, arial, sans-serif; font-size: 12px; fill: rgb(242, 245, 250); fill-opacity: 1; white-space: pre; opacity: 1;\" transform=\"translate(0,130.46)\">7B</text></g></g><g class=\"overaxes-above\"/></g></g><g class=\"polarlayer\"/><g class=\"smithlayer\"/><g class=\"ternarylayer\"/><g class=\"geolayer\"/><g class=\"funnelarealayer\"/><g class=\"pielayer\"/><g class=\"iciclelayer\"/><g class=\"treemaplayer\"/><g class=\"sunburstlayer\"/><g class=\"glimages\"/><defs id=\"topdefs-d65426\"><g class=\"clips\"/></defs><g class=\"layer-above\"><g class=\"imagelayer\"/><g class=\"shapelayer\"/></g><g class=\"infolayer\"><g class=\"g-gtitle\"><text class=\"gtitle\" x=\"50\" y=\"50\" text-anchor=\"start\" dy=\"0em\" style=\"font-family: 'Open Sans', verdana, arial, sans-serif; font-size: 17px; fill: rgb(242, 245, 250); opacity: 1; font-weight: normal; white-space: pre;\">Top 15 Countries with Highest Tourist Arrivals from 1995 to 2020</text></g><g class=\"g-xtitle\"><text class=\"xtitle\" x=\"500\" y=\"587.7970703125\" text-anchor=\"middle\" style=\"font-family: 'Open Sans', verdana, arial, sans-serif; font-size: 14px; fill: rgb(242, 245, 250); opacity: 1; font-weight: normal; white-space: pre;\">Country Name</text></g><g class=\"g-ytitle\"><text class=\"ytitle\" transform=\"rotate(-90,39.5125,292.5)\" x=\"39.5125\" y=\"292.5\" text-anchor=\"middle\" style=\"font-family: 'Open Sans', verdana, arial, sans-serif; font-size: 14px; fill: rgb(242, 245, 250); opacity: 1; font-weight: normal; white-space: pre;\">total_arrivals</text></g></g></svg>"
     },
     "metadata": {},
     "output_type": "display_data"
    }
   ],
   "source": [
    "# Let's see how many arrivals each country has earned in total over the years\n",
    "\n",
    "df = arrivals.drop(['Country Name', 'Country Code'], axis=1).T\n",
    "total_arrivals_by_country = [df[x].sum() for x in df.columns]\n",
    "\n",
    "arrivals['total_arrivals'] = total_arrivals_by_country\n",
    "\n",
    "fig = px.bar(\n",
    "    arrivals.sort_values(by='total_arrivals', ascending=False).reset_index(drop=True)[:15],\n",
    "    x = 'Country Name',\n",
    "    y = 'total_arrivals',\n",
    "    hover_name = 'Country Code',\n",
    "    template = 'plotly_dark',\n",
    "    height = 600, width = 1000,\n",
    "    color_discrete_sequence = [f'{next(palette)}'],\n",
    "    title = 'Top 15 Countries with Highest Tourist Arrivals from 1995 to 2020'\n",
    ")\n",
    "\n",
    "fig.show('svg')"
   ]
  },
  {
   "cell_type": "markdown",
   "metadata": {},
   "source": [
    "*Never mind.* Looks like France takes the lead with the US right on its tail. But its quite surprising to see such a huge gap in revenue despite the number of tourists being relatively close. \n",
    "\n",
    "What's even more suprising is that Thailand is nowhere in the top 15 in terms of arrivals, but is ranked 5th in terms of revenue. "
   ]
  },
  {
   "cell_type": "code",
   "execution_count": null,
   "metadata": {},
   "outputs": [],
   "source": []
  }
 ],
 "metadata": {
  "interpreter": {
   "hash": "2a3313031ff1b931b891c4e4dff143c89669abdf80fd92240bf999e8ca153edb"
  },
  "kernelspec": {
   "display_name": "Python 3.8.8 ('tflowgpu')",
   "language": "python",
   "name": "python3"
  },
  "language_info": {
   "codemirror_mode": {
    "name": "ipython",
    "version": 3
   },
   "file_extension": ".py",
   "mimetype": "text/x-python",
   "name": "python",
   "nbconvert_exporter": "python",
   "pygments_lexer": "ipython3",
   "version": "3.8.8"
  },
  "orig_nbformat": 4
 },
 "nbformat": 4,
 "nbformat_minor": 2
}
